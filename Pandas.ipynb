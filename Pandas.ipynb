{
  "nbformat": 4,
  "nbformat_minor": 0,
  "metadata": {
    "colab": {
      "provenance": [],
      "include_colab_link": true
    },
    "kernelspec": {
      "name": "python3",
      "display_name": "Python 3"
    },
    "language_info": {
      "name": "python"
    }
  },
  "cells": [
    {
      "cell_type": "markdown",
      "metadata": {
        "id": "view-in-github",
        "colab_type": "text"
      },
      "source": [
        "<a href=\"https://colab.research.google.com/github/devtayyabsajjad/Pandas-Learning-Journey-/blob/main/Pandas.ipynb\" target=\"_parent\"><img src=\"https://colab.research.google.com/assets/colab-badge.svg\" alt=\"Open In Colab\"/></a>"
      ]
    },
    {
      "cell_type": "markdown",
      "source": [
        "![Pandas Logo](https://pandas.pydata.org/static/img/pandas_white.svg)\n",
        "\n",
        "---\n",
        "\n",
        "## Table of Contents\n",
        "\n",
        "1. [Introduction to Pandas](#introduction-to-pandas)\n",
        "2. [Setting Up and Basic Data Structures](#setting-up-and-basic-data-structures)\n",
        "   - [Installing and Importing Pandas](#installing-and-importing-pandas)\n",
        "   - [Pandas Data Structures](#creating-a-series-and-dataframe)\n",
        "3. [Data Loading and I/O Operations](#data-loading-and-io-operations)\n",
        "   - [Reading Data from Files](#reading-data-from-files)\n",
        "   - [Writing Data to Files](#writing-data-to-files)\n",
        "4. [Data Exploration and Manipulation](#data-exploration-and-manipulation)\n",
        "   - [Exploring Your Data](#exploring-your-data)\n",
        "   - [Selecting and Filtering Data](#selecting-and-filtering-data)\n",
        "5. [Handling Missing Data](#handling-missing-data)\n",
        "   - [Detecting Missing Values](#detecting-missing-values)\n",
        "   - [Dealing with Missing Values](#dealing-with-missing-values)\n",
        "6. [Data Aggregation and Grouping](#data-aggregation-and-grouping)\n",
        "   - [GroupBy Operations](#groupby-operations)\n",
        "   - [Pivot Tables](#pivot-tables)\n",
        "7. [Merging, Joining, and Concatenating DataFrames](#merging-joining-and-concatenating-dataframes)\n",
        "   - [Merging DataFrames](#merging-dataframes)\n",
        "   - [Concatenating DataFrames](#concatenating-dataframes)\n",
        "8. [Advanced Pandas Topics](#advanced-pandas-topics)\n",
        "   - [Applying Functions to Data](#applying-functions-to-data)\n",
        "   - [Time Series Analysis](#time-series-analysis)\n",
        "   - [Performance Optimization Techniques](#performance-optimization-techniques)\n",
        "9. [Common Questions and How to Explain Them](#common-interview-questions-and-how-to-explain-them)\n",
        "\n",
        "\n",
        "---\n",
        "\n"
      ],
      "metadata": {
        "id": "j0e8ZbYEzQct"
      }
    },
    {
      "cell_type": "markdown",
      "source": [
        "## 1. Introduction"
      ],
      "metadata": {
        "id": "KwT6qlXQ09K2"
      }
    },
    {
      "cell_type": "markdown",
      "source": [
        "  Pandas is a powerful Python library designed for data manipulation and analysis.\n",
        "\n",
        "\n",
        "**Why Pandas?**  \n",
        "- **Ease of Use:** Simplifies complex data operations into intuitive commands.\n",
        "- **Data Analysis:** Offers powerful tools for cleaning, filtering, grouping, and aggregation.\n",
        "- **Integration:** Works seamlessly with libraries like NumPy, Matplotlib, and Scikit-learn.\n",
        "\n",
        "---\n",
        "\n"
      ],
      "metadata": {
        "id": "Wr_JXV1K02So"
      }
    },
    {
      "cell_type": "markdown",
      "source": [
        "##2. Setting up and Basic Data Structure"
      ],
      "metadata": {
        "id": "5ABow0JdIFJ1"
      }
    },
    {
      "cell_type": "markdown",
      "source": [
        "### 2.1 Installing and Importing Pandas\n",
        "\n",
        "Before using Pandas, ensure that it's installed. You can install it via pip if needed:\n",
        "\n",
        "```python\n",
        "# To install pandas, run:\n",
        "# pip install pandas\n",
        "\n",
        "# Then, import pandas in your Python script:\n",
        "import pandas as pd\n"
      ],
      "metadata": {
        "id": "oJHVuN-CIV0j"
      }
    },
    {
      "cell_type": "markdown",
      "source": [
        "### 2.2 Pandas Data Structures\n",
        "\n",
        "Pandas primarily uses two data structures: **Series** and **DataFrame**."
      ],
      "metadata": {
        "id": "5LspcfXz1Vri"
      }
    },
    {
      "cell_type": "markdown",
      "source": [
        "### Series\n",
        "\n",
        "A Series is a one-dimensional array-like object with labeled indices.\n",
        "![DataFrame](https://pandas.pydata.org/docs/_images/01_table_series.svg)\n",
        "\n"
      ],
      "metadata": {
        "id": "kZJ2w6vl1GLq"
      }
    },
    {
      "cell_type": "code",
      "source": [
        "import pandas as pd\n",
        "\n",
        "# Creating a simple Series\n",
        "s = pd.Series([10, 20, 30, 40])\n",
        "print(\"Series:\")\n",
        "print(s)"
      ],
      "metadata": {
        "colab": {
          "base_uri": "https://localhost:8080/"
        },
        "id": "JBQc5Xw61wfw",
        "outputId": "c819b785-0385-4a4f-a900-7973f875a553"
      },
      "execution_count": null,
      "outputs": [
        {
          "output_type": "stream",
          "name": "stdout",
          "text": [
            "Series:\n",
            "0    10\n",
            "1    20\n",
            "2    30\n",
            "3    40\n",
            "dtype: int64\n"
          ]
        }
      ]
    },
    {
      "cell_type": "markdown",
      "source": [
        "### DataFrame\n",
        "\n",
        "A DataFrame is a two-dimensional, size-mutable, and heterogeneous tabular data structure with labeled axes (rows and columns).\n",
        "![DataFrame](https://pandas.pydata.org/docs/_images/01_table_dataframe.svg)\n"
      ],
      "metadata": {
        "id": "3Umpfriv2fqu"
      }
    },
    {
      "cell_type": "code",
      "source": [
        "# Creating a simple DataFrame\n",
        "data = {'Name': ['Alice', 'Bob', 'Charlie'], 'Age': [25, 30, 35]}  # pandas deal hetrogenous data type\n",
        "df = pd.DataFrame(data)\n",
        "print(\"\\nDataFrame:\")\n",
        "print(df)\n"
      ],
      "metadata": {
        "colab": {
          "base_uri": "https://localhost:8080/"
        },
        "id": "97_GRb8D19kX",
        "outputId": "dbfdc4b0-8852-4d2e-b980-877e58b9f7df"
      },
      "execution_count": null,
      "outputs": [
        {
          "output_type": "stream",
          "name": "stdout",
          "text": [
            "\n",
            "DataFrame:\n",
            "      Name  Age\n",
            "0    Alice   25\n",
            "1      Bob   30\n",
            "2  Charlie   35\n"
          ]
        }
      ]
    },
    {
      "cell_type": "markdown",
      "source": [
        "## 3. Data Loading and I/O Operations\n",
        "Pandas makes it easy to read data from and write data to various file formats such as **CSV**, **Excel**, **JSON**, and **SQL databases**.\n",
        "\n",
        "\n",
        "\n",
        "\n"
      ],
      "metadata": {
        "id": "spOltJL_24w7"
      }
    },
    {
      "cell_type": "code",
      "source": [
        "# Example: Reading a CSV file\n",
        "df = pd.read_csv('/content/drive/MyDrive/Titanic-Dataset.csv')\n",
        "print(df.shape)\n",
        "df.tail(10)\n"
      ],
      "metadata": {
        "colab": {
          "base_uri": "https://localhost:8080/",
          "height": 381
        },
        "id": "aXy6hMHo2oQi",
        "outputId": "8d277e18-eb86-4059-92f3-257d4b99b067"
      },
      "execution_count": null,
      "outputs": [
        {
          "output_type": "stream",
          "name": "stdout",
          "text": [
            "(891, 12)\n"
          ]
        },
        {
          "output_type": "execute_result",
          "data": {
            "text/plain": [
              "     PassengerId  Survived  Pclass                                      Name  \\\n",
              "881          882         0       3                        Markun, Mr. Johann   \n",
              "882          883         0       3              Dahlberg, Miss. Gerda Ulrika   \n",
              "883          884         0       2             Banfield, Mr. Frederick James   \n",
              "884          885         0       3                    Sutehall, Mr. Henry Jr   \n",
              "885          886         0       3      Rice, Mrs. William (Margaret Norton)   \n",
              "886          887         0       2                     Montvila, Rev. Juozas   \n",
              "887          888         1       1              Graham, Miss. Margaret Edith   \n",
              "888          889         0       3  Johnston, Miss. Catherine Helen \"Carrie\"   \n",
              "889          890         1       1                     Behr, Mr. Karl Howell   \n",
              "890          891         0       3                       Dooley, Mr. Patrick   \n",
              "\n",
              "        Sex   Age  SibSp  Parch            Ticket     Fare Cabin Embarked  \n",
              "881    male  33.0      0      0            349257   7.8958   NaN        S  \n",
              "882  female  22.0      0      0              7552  10.5167   NaN        S  \n",
              "883    male  28.0      0      0  C.A./SOTON 34068  10.5000   NaN        S  \n",
              "884    male  25.0      0      0   SOTON/OQ 392076   7.0500   NaN        S  \n",
              "885  female  39.0      0      5            382652  29.1250   NaN        Q  \n",
              "886    male  27.0      0      0            211536  13.0000   NaN        S  \n",
              "887  female  19.0      0      0            112053  30.0000   B42        S  \n",
              "888  female   NaN      1      2        W./C. 6607  23.4500   NaN        S  \n",
              "889    male  26.0      0      0            111369  30.0000  C148        C  \n",
              "890    male  32.0      0      0            370376   7.7500   NaN        Q  "
            ],
            "text/html": [
              "\n",
              "  <div id=\"df-70835d49-1660-4160-84ce-64059119fad4\" class=\"colab-df-container\">\n",
              "    <div>\n",
              "<style scoped>\n",
              "    .dataframe tbody tr th:only-of-type {\n",
              "        vertical-align: middle;\n",
              "    }\n",
              "\n",
              "    .dataframe tbody tr th {\n",
              "        vertical-align: top;\n",
              "    }\n",
              "\n",
              "    .dataframe thead th {\n",
              "        text-align: right;\n",
              "    }\n",
              "</style>\n",
              "<table border=\"1\" class=\"dataframe\">\n",
              "  <thead>\n",
              "    <tr style=\"text-align: right;\">\n",
              "      <th></th>\n",
              "      <th>PassengerId</th>\n",
              "      <th>Survived</th>\n",
              "      <th>Pclass</th>\n",
              "      <th>Name</th>\n",
              "      <th>Sex</th>\n",
              "      <th>Age</th>\n",
              "      <th>SibSp</th>\n",
              "      <th>Parch</th>\n",
              "      <th>Ticket</th>\n",
              "      <th>Fare</th>\n",
              "      <th>Cabin</th>\n",
              "      <th>Embarked</th>\n",
              "    </tr>\n",
              "  </thead>\n",
              "  <tbody>\n",
              "    <tr>\n",
              "      <th>881</th>\n",
              "      <td>882</td>\n",
              "      <td>0</td>\n",
              "      <td>3</td>\n",
              "      <td>Markun, Mr. Johann</td>\n",
              "      <td>male</td>\n",
              "      <td>33.0</td>\n",
              "      <td>0</td>\n",
              "      <td>0</td>\n",
              "      <td>349257</td>\n",
              "      <td>7.8958</td>\n",
              "      <td>NaN</td>\n",
              "      <td>S</td>\n",
              "    </tr>\n",
              "    <tr>\n",
              "      <th>882</th>\n",
              "      <td>883</td>\n",
              "      <td>0</td>\n",
              "      <td>3</td>\n",
              "      <td>Dahlberg, Miss. Gerda Ulrika</td>\n",
              "      <td>female</td>\n",
              "      <td>22.0</td>\n",
              "      <td>0</td>\n",
              "      <td>0</td>\n",
              "      <td>7552</td>\n",
              "      <td>10.5167</td>\n",
              "      <td>NaN</td>\n",
              "      <td>S</td>\n",
              "    </tr>\n",
              "    <tr>\n",
              "      <th>883</th>\n",
              "      <td>884</td>\n",
              "      <td>0</td>\n",
              "      <td>2</td>\n",
              "      <td>Banfield, Mr. Frederick James</td>\n",
              "      <td>male</td>\n",
              "      <td>28.0</td>\n",
              "      <td>0</td>\n",
              "      <td>0</td>\n",
              "      <td>C.A./SOTON 34068</td>\n",
              "      <td>10.5000</td>\n",
              "      <td>NaN</td>\n",
              "      <td>S</td>\n",
              "    </tr>\n",
              "    <tr>\n",
              "      <th>884</th>\n",
              "      <td>885</td>\n",
              "      <td>0</td>\n",
              "      <td>3</td>\n",
              "      <td>Sutehall, Mr. Henry Jr</td>\n",
              "      <td>male</td>\n",
              "      <td>25.0</td>\n",
              "      <td>0</td>\n",
              "      <td>0</td>\n",
              "      <td>SOTON/OQ 392076</td>\n",
              "      <td>7.0500</td>\n",
              "      <td>NaN</td>\n",
              "      <td>S</td>\n",
              "    </tr>\n",
              "    <tr>\n",
              "      <th>885</th>\n",
              "      <td>886</td>\n",
              "      <td>0</td>\n",
              "      <td>3</td>\n",
              "      <td>Rice, Mrs. William (Margaret Norton)</td>\n",
              "      <td>female</td>\n",
              "      <td>39.0</td>\n",
              "      <td>0</td>\n",
              "      <td>5</td>\n",
              "      <td>382652</td>\n",
              "      <td>29.1250</td>\n",
              "      <td>NaN</td>\n",
              "      <td>Q</td>\n",
              "    </tr>\n",
              "    <tr>\n",
              "      <th>886</th>\n",
              "      <td>887</td>\n",
              "      <td>0</td>\n",
              "      <td>2</td>\n",
              "      <td>Montvila, Rev. Juozas</td>\n",
              "      <td>male</td>\n",
              "      <td>27.0</td>\n",
              "      <td>0</td>\n",
              "      <td>0</td>\n",
              "      <td>211536</td>\n",
              "      <td>13.0000</td>\n",
              "      <td>NaN</td>\n",
              "      <td>S</td>\n",
              "    </tr>\n",
              "    <tr>\n",
              "      <th>887</th>\n",
              "      <td>888</td>\n",
              "      <td>1</td>\n",
              "      <td>1</td>\n",
              "      <td>Graham, Miss. Margaret Edith</td>\n",
              "      <td>female</td>\n",
              "      <td>19.0</td>\n",
              "      <td>0</td>\n",
              "      <td>0</td>\n",
              "      <td>112053</td>\n",
              "      <td>30.0000</td>\n",
              "      <td>B42</td>\n",
              "      <td>S</td>\n",
              "    </tr>\n",
              "    <tr>\n",
              "      <th>888</th>\n",
              "      <td>889</td>\n",
              "      <td>0</td>\n",
              "      <td>3</td>\n",
              "      <td>Johnston, Miss. Catherine Helen \"Carrie\"</td>\n",
              "      <td>female</td>\n",
              "      <td>NaN</td>\n",
              "      <td>1</td>\n",
              "      <td>2</td>\n",
              "      <td>W./C. 6607</td>\n",
              "      <td>23.4500</td>\n",
              "      <td>NaN</td>\n",
              "      <td>S</td>\n",
              "    </tr>\n",
              "    <tr>\n",
              "      <th>889</th>\n",
              "      <td>890</td>\n",
              "      <td>1</td>\n",
              "      <td>1</td>\n",
              "      <td>Behr, Mr. Karl Howell</td>\n",
              "      <td>male</td>\n",
              "      <td>26.0</td>\n",
              "      <td>0</td>\n",
              "      <td>0</td>\n",
              "      <td>111369</td>\n",
              "      <td>30.0000</td>\n",
              "      <td>C148</td>\n",
              "      <td>C</td>\n",
              "    </tr>\n",
              "    <tr>\n",
              "      <th>890</th>\n",
              "      <td>891</td>\n",
              "      <td>0</td>\n",
              "      <td>3</td>\n",
              "      <td>Dooley, Mr. Patrick</td>\n",
              "      <td>male</td>\n",
              "      <td>32.0</td>\n",
              "      <td>0</td>\n",
              "      <td>0</td>\n",
              "      <td>370376</td>\n",
              "      <td>7.7500</td>\n",
              "      <td>NaN</td>\n",
              "      <td>Q</td>\n",
              "    </tr>\n",
              "  </tbody>\n",
              "</table>\n",
              "</div>\n",
              "    <div class=\"colab-df-buttons\">\n",
              "\n",
              "  <div class=\"colab-df-container\">\n",
              "    <button class=\"colab-df-convert\" onclick=\"convertToInteractive('df-70835d49-1660-4160-84ce-64059119fad4')\"\n",
              "            title=\"Convert this dataframe to an interactive table.\"\n",
              "            style=\"display:none;\">\n",
              "\n",
              "  <svg xmlns=\"http://www.w3.org/2000/svg\" height=\"24px\" viewBox=\"0 -960 960 960\">\n",
              "    <path d=\"M120-120v-720h720v720H120Zm60-500h600v-160H180v160Zm220 220h160v-160H400v160Zm0 220h160v-160H400v160ZM180-400h160v-160H180v160Zm440 0h160v-160H620v160ZM180-180h160v-160H180v160Zm440 0h160v-160H620v160Z\"/>\n",
              "  </svg>\n",
              "    </button>\n",
              "\n",
              "  <style>\n",
              "    .colab-df-container {\n",
              "      display:flex;\n",
              "      gap: 12px;\n",
              "    }\n",
              "\n",
              "    .colab-df-convert {\n",
              "      background-color: #E8F0FE;\n",
              "      border: none;\n",
              "      border-radius: 50%;\n",
              "      cursor: pointer;\n",
              "      display: none;\n",
              "      fill: #1967D2;\n",
              "      height: 32px;\n",
              "      padding: 0 0 0 0;\n",
              "      width: 32px;\n",
              "    }\n",
              "\n",
              "    .colab-df-convert:hover {\n",
              "      background-color: #E2EBFA;\n",
              "      box-shadow: 0px 1px 2px rgba(60, 64, 67, 0.3), 0px 1px 3px 1px rgba(60, 64, 67, 0.15);\n",
              "      fill: #174EA6;\n",
              "    }\n",
              "\n",
              "    .colab-df-buttons div {\n",
              "      margin-bottom: 4px;\n",
              "    }\n",
              "\n",
              "    [theme=dark] .colab-df-convert {\n",
              "      background-color: #3B4455;\n",
              "      fill: #D2E3FC;\n",
              "    }\n",
              "\n",
              "    [theme=dark] .colab-df-convert:hover {\n",
              "      background-color: #434B5C;\n",
              "      box-shadow: 0px 1px 3px 1px rgba(0, 0, 0, 0.15);\n",
              "      filter: drop-shadow(0px 1px 2px rgba(0, 0, 0, 0.3));\n",
              "      fill: #FFFFFF;\n",
              "    }\n",
              "  </style>\n",
              "\n",
              "    <script>\n",
              "      const buttonEl =\n",
              "        document.querySelector('#df-70835d49-1660-4160-84ce-64059119fad4 button.colab-df-convert');\n",
              "      buttonEl.style.display =\n",
              "        google.colab.kernel.accessAllowed ? 'block' : 'none';\n",
              "\n",
              "      async function convertToInteractive(key) {\n",
              "        const element = document.querySelector('#df-70835d49-1660-4160-84ce-64059119fad4');\n",
              "        const dataTable =\n",
              "          await google.colab.kernel.invokeFunction('convertToInteractive',\n",
              "                                                    [key], {});\n",
              "        if (!dataTable) return;\n",
              "\n",
              "        const docLinkHtml = 'Like what you see? Visit the ' +\n",
              "          '<a target=\"_blank\" href=https://colab.research.google.com/notebooks/data_table.ipynb>data table notebook</a>'\n",
              "          + ' to learn more about interactive tables.';\n",
              "        element.innerHTML = '';\n",
              "        dataTable['output_type'] = 'display_data';\n",
              "        await google.colab.output.renderOutput(dataTable, element);\n",
              "        const docLink = document.createElement('div');\n",
              "        docLink.innerHTML = docLinkHtml;\n",
              "        element.appendChild(docLink);\n",
              "      }\n",
              "    </script>\n",
              "  </div>\n",
              "\n",
              "\n",
              "<div id=\"df-48ea481e-44fc-47c3-8a55-aa95f5dd439b\">\n",
              "  <button class=\"colab-df-quickchart\" onclick=\"quickchart('df-48ea481e-44fc-47c3-8a55-aa95f5dd439b')\"\n",
              "            title=\"Suggest charts\"\n",
              "            style=\"display:none;\">\n",
              "\n",
              "<svg xmlns=\"http://www.w3.org/2000/svg\" height=\"24px\"viewBox=\"0 0 24 24\"\n",
              "     width=\"24px\">\n",
              "    <g>\n",
              "        <path d=\"M19 3H5c-1.1 0-2 .9-2 2v14c0 1.1.9 2 2 2h14c1.1 0 2-.9 2-2V5c0-1.1-.9-2-2-2zM9 17H7v-7h2v7zm4 0h-2V7h2v10zm4 0h-2v-4h2v4z\"/>\n",
              "    </g>\n",
              "</svg>\n",
              "  </button>\n",
              "\n",
              "<style>\n",
              "  .colab-df-quickchart {\n",
              "      --bg-color: #E8F0FE;\n",
              "      --fill-color: #1967D2;\n",
              "      --hover-bg-color: #E2EBFA;\n",
              "      --hover-fill-color: #174EA6;\n",
              "      --disabled-fill-color: #AAA;\n",
              "      --disabled-bg-color: #DDD;\n",
              "  }\n",
              "\n",
              "  [theme=dark] .colab-df-quickchart {\n",
              "      --bg-color: #3B4455;\n",
              "      --fill-color: #D2E3FC;\n",
              "      --hover-bg-color: #434B5C;\n",
              "      --hover-fill-color: #FFFFFF;\n",
              "      --disabled-bg-color: #3B4455;\n",
              "      --disabled-fill-color: #666;\n",
              "  }\n",
              "\n",
              "  .colab-df-quickchart {\n",
              "    background-color: var(--bg-color);\n",
              "    border: none;\n",
              "    border-radius: 50%;\n",
              "    cursor: pointer;\n",
              "    display: none;\n",
              "    fill: var(--fill-color);\n",
              "    height: 32px;\n",
              "    padding: 0;\n",
              "    width: 32px;\n",
              "  }\n",
              "\n",
              "  .colab-df-quickchart:hover {\n",
              "    background-color: var(--hover-bg-color);\n",
              "    box-shadow: 0 1px 2px rgba(60, 64, 67, 0.3), 0 1px 3px 1px rgba(60, 64, 67, 0.15);\n",
              "    fill: var(--button-hover-fill-color);\n",
              "  }\n",
              "\n",
              "  .colab-df-quickchart-complete:disabled,\n",
              "  .colab-df-quickchart-complete:disabled:hover {\n",
              "    background-color: var(--disabled-bg-color);\n",
              "    fill: var(--disabled-fill-color);\n",
              "    box-shadow: none;\n",
              "  }\n",
              "\n",
              "  .colab-df-spinner {\n",
              "    border: 2px solid var(--fill-color);\n",
              "    border-color: transparent;\n",
              "    border-bottom-color: var(--fill-color);\n",
              "    animation:\n",
              "      spin 1s steps(1) infinite;\n",
              "  }\n",
              "\n",
              "  @keyframes spin {\n",
              "    0% {\n",
              "      border-color: transparent;\n",
              "      border-bottom-color: var(--fill-color);\n",
              "      border-left-color: var(--fill-color);\n",
              "    }\n",
              "    20% {\n",
              "      border-color: transparent;\n",
              "      border-left-color: var(--fill-color);\n",
              "      border-top-color: var(--fill-color);\n",
              "    }\n",
              "    30% {\n",
              "      border-color: transparent;\n",
              "      border-left-color: var(--fill-color);\n",
              "      border-top-color: var(--fill-color);\n",
              "      border-right-color: var(--fill-color);\n",
              "    }\n",
              "    40% {\n",
              "      border-color: transparent;\n",
              "      border-right-color: var(--fill-color);\n",
              "      border-top-color: var(--fill-color);\n",
              "    }\n",
              "    60% {\n",
              "      border-color: transparent;\n",
              "      border-right-color: var(--fill-color);\n",
              "    }\n",
              "    80% {\n",
              "      border-color: transparent;\n",
              "      border-right-color: var(--fill-color);\n",
              "      border-bottom-color: var(--fill-color);\n",
              "    }\n",
              "    90% {\n",
              "      border-color: transparent;\n",
              "      border-bottom-color: var(--fill-color);\n",
              "    }\n",
              "  }\n",
              "</style>\n",
              "\n",
              "  <script>\n",
              "    async function quickchart(key) {\n",
              "      const quickchartButtonEl =\n",
              "        document.querySelector('#' + key + ' button');\n",
              "      quickchartButtonEl.disabled = true;  // To prevent multiple clicks.\n",
              "      quickchartButtonEl.classList.add('colab-df-spinner');\n",
              "      try {\n",
              "        const charts = await google.colab.kernel.invokeFunction(\n",
              "            'suggestCharts', [key], {});\n",
              "      } catch (error) {\n",
              "        console.error('Error during call to suggestCharts:', error);\n",
              "      }\n",
              "      quickchartButtonEl.classList.remove('colab-df-spinner');\n",
              "      quickchartButtonEl.classList.add('colab-df-quickchart-complete');\n",
              "    }\n",
              "    (() => {\n",
              "      let quickchartButtonEl =\n",
              "        document.querySelector('#df-48ea481e-44fc-47c3-8a55-aa95f5dd439b button');\n",
              "      quickchartButtonEl.style.display =\n",
              "        google.colab.kernel.accessAllowed ? 'block' : 'none';\n",
              "    })();\n",
              "  </script>\n",
              "</div>\n",
              "\n",
              "    </div>\n",
              "  </div>\n"
            ],
            "application/vnd.google.colaboratory.intrinsic+json": {
              "type": "dataframe",
              "summary": "{\n  \"name\": \"df\",\n  \"rows\": 10,\n  \"fields\": [\n    {\n      \"column\": \"PassengerId\",\n      \"properties\": {\n        \"dtype\": \"number\",\n        \"std\": 3,\n        \"min\": 882,\n        \"max\": 891,\n        \"num_unique_values\": 10,\n        \"samples\": [\n          890,\n          883,\n          887\n        ],\n        \"semantic_type\": \"\",\n        \"description\": \"\"\n      }\n    },\n    {\n      \"column\": \"Survived\",\n      \"properties\": {\n        \"dtype\": \"number\",\n        \"std\": 0,\n        \"min\": 0,\n        \"max\": 1,\n        \"num_unique_values\": 2,\n        \"samples\": [\n          1,\n          0\n        ],\n        \"semantic_type\": \"\",\n        \"description\": \"\"\n      }\n    },\n    {\n      \"column\": \"Pclass\",\n      \"properties\": {\n        \"dtype\": \"number\",\n        \"std\": 0,\n        \"min\": 1,\n        \"max\": 3,\n        \"num_unique_values\": 3,\n        \"samples\": [\n          3,\n          2\n        ],\n        \"semantic_type\": \"\",\n        \"description\": \"\"\n      }\n    },\n    {\n      \"column\": \"Name\",\n      \"properties\": {\n        \"dtype\": \"string\",\n        \"num_unique_values\": 10,\n        \"samples\": [\n          \"Behr, Mr. Karl Howell\",\n          \"Dahlberg, Miss. Gerda Ulrika\"\n        ],\n        \"semantic_type\": \"\",\n        \"description\": \"\"\n      }\n    },\n    {\n      \"column\": \"Sex\",\n      \"properties\": {\n        \"dtype\": \"category\",\n        \"num_unique_values\": 2,\n        \"samples\": [\n          \"female\",\n          \"male\"\n        ],\n        \"semantic_type\": \"\",\n        \"description\": \"\"\n      }\n    },\n    {\n      \"column\": \"Age\",\n      \"properties\": {\n        \"dtype\": \"number\",\n        \"std\": 6.050711620223782,\n        \"min\": 19.0,\n        \"max\": 39.0,\n        \"num_unique_values\": 9,\n        \"samples\": [\n          26.0,\n          22.0\n        ],\n        \"semantic_type\": \"\",\n        \"description\": \"\"\n      }\n    },\n    {\n      \"column\": \"SibSp\",\n      \"properties\": {\n        \"dtype\": \"number\",\n        \"std\": 0,\n        \"min\": 0,\n        \"max\": 1,\n        \"num_unique_values\": 2,\n        \"samples\": [\n          1,\n          0\n        ],\n        \"semantic_type\": \"\",\n        \"description\": \"\"\n      }\n    },\n    {\n      \"column\": \"Parch\",\n      \"properties\": {\n        \"dtype\": \"number\",\n        \"std\": 1,\n        \"min\": 0,\n        \"max\": 5,\n        \"num_unique_values\": 3,\n        \"samples\": [\n          0,\n          5\n        ],\n        \"semantic_type\": \"\",\n        \"description\": \"\"\n      }\n    },\n    {\n      \"column\": \"Ticket\",\n      \"properties\": {\n        \"dtype\": \"string\",\n        \"num_unique_values\": 10,\n        \"samples\": [\n          \"111369\",\n          \"7552\"\n        ],\n        \"semantic_type\": \"\",\n        \"description\": \"\"\n      }\n    },\n    {\n      \"column\": \"Fare\",\n      \"properties\": {\n        \"dtype\": \"number\",\n        \"std\": 9.96829415867574,\n        \"min\": 7.05,\n        \"max\": 30.0,\n        \"num_unique_values\": 9,\n        \"samples\": [\n          23.45,\n          10.5167\n        ],\n        \"semantic_type\": \"\",\n        \"description\": \"\"\n      }\n    },\n    {\n      \"column\": \"Cabin\",\n      \"properties\": {\n        \"dtype\": \"category\",\n        \"num_unique_values\": 2,\n        \"samples\": [\n          \"C148\",\n          \"B42\"\n        ],\n        \"semantic_type\": \"\",\n        \"description\": \"\"\n      }\n    },\n    {\n      \"column\": \"Embarked\",\n      \"properties\": {\n        \"dtype\": \"category\",\n        \"num_unique_values\": 3,\n        \"samples\": [\n          \"S\",\n          \"Q\"\n        ],\n        \"semantic_type\": \"\",\n        \"description\": \"\"\n      }\n    }\n  ]\n}"
            }
          },
          "metadata": {},
          "execution_count": 19
        }
      ]
    },
    {
      "cell_type": "code",
      "source": [
        "from google.colab import drive\n",
        "drive.mount('/content/drive')"
      ],
      "metadata": {
        "colab": {
          "base_uri": "https://localhost:8080/"
        },
        "id": "_xooY5RpCxS1",
        "outputId": "455f920a-6107-4036-de5b-101665abbfd7"
      },
      "execution_count": null,
      "outputs": [
        {
          "output_type": "stream",
          "name": "stdout",
          "text": [
            "Drive already mounted at /content/drive; to attempt to forcibly remount, call drive.mount(\"/content/drive\", force_remount=True).\n"
          ]
        }
      ]
    },
    {
      "cell_type": "code",
      "source": [
        "# Writing a DataFrame to a CSV file\n",
        "df.to_csv('output.csv', index=False) # 'False' excludes the index column from the CSV file.\n"
      ],
      "metadata": {
        "id": "rctKyLuO3cLh"
      },
      "execution_count": null,
      "outputs": []
    },
    {
      "cell_type": "markdown",
      "source": [
        "## 4. Data Exploration and Manipulation"
      ],
      "metadata": {
        "id": "FuP7WCd63qYJ"
      }
    },
    {
      "cell_type": "markdown",
      "source": [
        "### 4.1 Exploring Your Data\n",
        "Before diving deep, inspect your dataset to understand its structure."
      ],
      "metadata": {
        "id": "Ww_UCYm-LavG"
      }
    },
    {
      "cell_type": "markdown",
      "source": [
        "\n",
        "\n",
        "*   head(): Shows the first 5 rows by default.\n",
        "\n",
        "*   info(): Provides details on data types and missing values.\n",
        "*   describe(): Summarizes statistical measures like mean and standard deviation.\n",
        "\n",
        "\n"
      ],
      "metadata": {
        "id": "jT7jtc7TLYQb"
      }
    },
    {
      "cell_type": "code",
      "source": [
        "# Generate descriptive statistics for numerical columns:\n",
        "print(df.describe())"
      ],
      "metadata": {
        "colab": {
          "base_uri": "https://localhost:8080/"
        },
        "id": "jpXgk9Dk6IuV",
        "outputId": "c4471672-9e7a-48da-99e4-8a6fa8482c8b"
      },
      "execution_count": null,
      "outputs": [
        {
          "output_type": "stream",
          "name": "stdout",
          "text": [
            "       PassengerId    Survived      Pclass         Age       SibSp  \\\n",
            "count   891.000000  891.000000  891.000000  714.000000  891.000000   \n",
            "mean    446.000000    0.383838    2.308642   29.699118    0.523008   \n",
            "std     257.353842    0.486592    0.836071   14.526497    1.102743   \n",
            "min       1.000000    0.000000    1.000000    0.420000    0.000000   \n",
            "25%     223.500000    0.000000    2.000000   20.125000    0.000000   \n",
            "50%     446.000000    0.000000    3.000000   28.000000    0.000000   \n",
            "75%     668.500000    1.000000    3.000000   38.000000    1.000000   \n",
            "max     891.000000    1.000000    3.000000   80.000000    8.000000   \n",
            "\n",
            "            Parch        Fare  \n",
            "count  891.000000  891.000000  \n",
            "mean     0.381594   32.204208  \n",
            "std      0.806057   49.693429  \n",
            "min      0.000000    0.000000  \n",
            "25%      0.000000    7.910400  \n",
            "50%      0.000000   14.454200  \n",
            "75%      0.000000   31.000000  \n",
            "max      6.000000  512.329200  \n"
          ]
        }
      ]
    },
    {
      "cell_type": "code",
      "source": [
        "# Display the first few rows:\n",
        "print(df.head())\n",
        "\n",
        "# Display the last few rows:\n",
        "print(df.tail())\n",
        "\n",
        "# Display the random 5 rows:\n",
        "print(df.sample(5))\n",
        "\n",
        "# Get a concise summary of the DataFrame (data types, non-null counts):\n",
        "print(df.info())\n",
        "\n",
        "# Generate descriptive statistics for numerical columns:\n",
        "print(df.describe())\n"
      ],
      "metadata": {
        "id": "I4dVJLYH3zrj",
        "colab": {
          "base_uri": "https://localhost:8080/"
        },
        "outputId": "18ccb5b2-aa7a-44bc-acd4-a2e6257397cd"
      },
      "execution_count": null,
      "outputs": [
        {
          "output_type": "stream",
          "name": "stdout",
          "text": [
            "   PassengerId  Survived  Pclass  \\\n",
            "0            1         0       3   \n",
            "1            2         1       1   \n",
            "2            3         1       3   \n",
            "3            4         1       1   \n",
            "4            5         0       3   \n",
            "\n",
            "                                                Name     Sex   Age  SibSp  \\\n",
            "0                            Braund, Mr. Owen Harris    male  22.0      1   \n",
            "1  Cumings, Mrs. John Bradley (Florence Briggs Th...  female  38.0      1   \n",
            "2                             Heikkinen, Miss. Laina  female  26.0      0   \n",
            "3       Futrelle, Mrs. Jacques Heath (Lily May Peel)  female  35.0      1   \n",
            "4                           Allen, Mr. William Henry    male  35.0      0   \n",
            "\n",
            "   Parch            Ticket     Fare Cabin Embarked  \n",
            "0      0         A/5 21171   7.2500   NaN        S  \n",
            "1      0          PC 17599  71.2833   C85        C  \n",
            "2      0  STON/O2. 3101282   7.9250   NaN        S  \n",
            "3      0            113803  53.1000  C123        S  \n",
            "4      0            373450   8.0500   NaN        S  \n",
            "     PassengerId  Survived  Pclass                                      Name  \\\n",
            "886          887         0       2                     Montvila, Rev. Juozas   \n",
            "887          888         1       1              Graham, Miss. Margaret Edith   \n",
            "888          889         0       3  Johnston, Miss. Catherine Helen \"Carrie\"   \n",
            "889          890         1       1                     Behr, Mr. Karl Howell   \n",
            "890          891         0       3                       Dooley, Mr. Patrick   \n",
            "\n",
            "        Sex   Age  SibSp  Parch      Ticket   Fare Cabin Embarked  \n",
            "886    male  27.0      0      0      211536  13.00   NaN        S  \n",
            "887  female  19.0      0      0      112053  30.00   B42        S  \n",
            "888  female   NaN      1      2  W./C. 6607  23.45   NaN        S  \n",
            "889    male  26.0      0      0      111369  30.00  C148        C  \n",
            "890    male  32.0      0      0      370376   7.75   NaN        Q  \n",
            "     PassengerId  Survived  Pclass                       Name     Sex   Age  \\\n",
            "735          736         0       3       Williams, Mr. Leslie    male  28.5   \n",
            "776          777         0       3           Tobin, Mr. Roger    male   NaN   \n",
            "468          469         0       3         Scanlan, Mr. James    male   NaN   \n",
            "805          806         0       3  Johansson, Mr. Karl Johan    male  31.0   \n",
            "792          793         0       3    Sage, Miss. Stella Anna  female   NaN   \n",
            "\n",
            "     SibSp  Parch    Ticket    Fare Cabin Embarked  \n",
            "735      0      0     54636  16.100   NaN        S  \n",
            "776      0      0    383121   7.750   F38        Q  \n",
            "468      0      0     36209   7.725   NaN        Q  \n",
            "805      0      0    347063   7.775   NaN        S  \n",
            "792      8      2  CA. 2343  69.550   NaN        S  \n",
            "<class 'pandas.core.frame.DataFrame'>\n",
            "RangeIndex: 891 entries, 0 to 890\n",
            "Data columns (total 12 columns):\n",
            " #   Column       Non-Null Count  Dtype  \n",
            "---  ------       --------------  -----  \n",
            " 0   PassengerId  891 non-null    int64  \n",
            " 1   Survived     891 non-null    int64  \n",
            " 2   Pclass       891 non-null    int64  \n",
            " 3   Name         891 non-null    object \n",
            " 4   Sex          891 non-null    object \n",
            " 5   Age          714 non-null    float64\n",
            " 6   SibSp        891 non-null    int64  \n",
            " 7   Parch        891 non-null    int64  \n",
            " 8   Ticket       891 non-null    object \n",
            " 9   Fare         891 non-null    float64\n",
            " 10  Cabin        204 non-null    object \n",
            " 11  Embarked     889 non-null    object \n",
            "dtypes: float64(2), int64(5), object(5)\n",
            "memory usage: 83.7+ KB\n",
            "None\n",
            "       PassengerId    Survived      Pclass         Age       SibSp  \\\n",
            "count   891.000000  891.000000  891.000000  714.000000  891.000000   \n",
            "mean    446.000000    0.383838    2.308642   29.699118    0.523008   \n",
            "std     257.353842    0.486592    0.836071   14.526497    1.102743   \n",
            "min       1.000000    0.000000    1.000000    0.420000    0.000000   \n",
            "25%     223.500000    0.000000    2.000000   20.125000    0.000000   \n",
            "50%     446.000000    0.000000    3.000000   28.000000    0.000000   \n",
            "75%     668.500000    1.000000    3.000000   38.000000    1.000000   \n",
            "max     891.000000    1.000000    3.000000   80.000000    8.000000   \n",
            "\n",
            "            Parch        Fare  \n",
            "count  891.000000  891.000000  \n",
            "mean     0.381594   32.204208  \n",
            "std      0.806057   49.693429  \n",
            "min      0.000000    0.000000  \n",
            "25%      0.000000    7.910400  \n",
            "50%      0.000000   14.454200  \n",
            "75%      0.000000   31.000000  \n",
            "max      6.000000  512.329200  \n"
          ]
        }
      ]
    },
    {
      "cell_type": "markdown",
      "source": [
        "### 4.2 Selecting and Filtering Data\n",
        "\n",
        "* Column Selection: Returns a Series that can be further analyzed.\n",
        "* .loc vs. .iloc:\n",
        "** .loc: Access by label.\n",
        "** .iloc: Access by integer position.\n",
        "* Conditional Filtering: Extracts rows that meet specific criteria."
      ],
      "metadata": {
        "id": "X6V6RA3h4Fhr"
      }
    },
    {
      "cell_type": "code",
      "source": [
        "# Using .loc for label-based row selection:\n",
        "print(df.loc[0])  # Selects the row with label 0"
      ],
      "metadata": {
        "colab": {
          "base_uri": "https://localhost:8080/"
        },
        "id": "kDSLFxFq93eK",
        "outputId": "d271ad39-2959-4a3e-edc8-24a18069cdcc"
      },
      "execution_count": null,
      "outputs": [
        {
          "output_type": "stream",
          "name": "stdout",
          "text": [
            "PassengerId                          1\n",
            "Survived                             0\n",
            "Pclass                               3\n",
            "Name           Braund, Mr. Owen Harris\n",
            "Sex                               male\n",
            "Age                               22.0\n",
            "SibSp                                1\n",
            "Parch                                0\n",
            "Ticket                       A/5 21171\n",
            "Fare                              7.25\n",
            "Cabin                              NaN\n",
            "Embarked                             S\n",
            "Name: 0, dtype: object\n"
          ]
        }
      ]
    },
    {
      "cell_type": "code",
      "source": [
        "# Selecting a column (returns a Series):\n",
        "print(df['Name'])\n",
        "\n",
        "# Using .loc for label-based row selection:\n",
        "print(df.loc[0])  # Selects the row with label 0\n",
        "\n",
        "# Using .iloc for integer-based row selection:\n",
        "print(df.iloc[0])  # Selects the first row\n",
        "\n",
        "# Filtering rows based on a condition:\n",
        "print(df[df['Age'] > 28])\n"
      ],
      "metadata": {
        "id": "oWQkC2B1NIbI",
        "colab": {
          "base_uri": "https://localhost:8080/"
        },
        "outputId": "ea1b35bd-7204-41db-b651-9ce1e9a08e9f"
      },
      "execution_count": null,
      "outputs": [
        {
          "output_type": "stream",
          "name": "stdout",
          "text": [
            "0                                Braund, Mr. Owen Harris\n",
            "1      Cumings, Mrs. John Bradley (Florence Briggs Th...\n",
            "2                                 Heikkinen, Miss. Laina\n",
            "3           Futrelle, Mrs. Jacques Heath (Lily May Peel)\n",
            "4                               Allen, Mr. William Henry\n",
            "                             ...                        \n",
            "886                                Montvila, Rev. Juozas\n",
            "887                         Graham, Miss. Margaret Edith\n",
            "888             Johnston, Miss. Catherine Helen \"Carrie\"\n",
            "889                                Behr, Mr. Karl Howell\n",
            "890                                  Dooley, Mr. Patrick\n",
            "Name: Name, Length: 891, dtype: object\n",
            "PassengerId                          1\n",
            "Survived                             0\n",
            "Pclass                               3\n",
            "Name           Braund, Mr. Owen Harris\n",
            "Sex                               male\n",
            "Age                               22.0\n",
            "SibSp                                1\n",
            "Parch                                0\n",
            "Ticket                       A/5 21171\n",
            "Fare                              7.25\n",
            "Cabin                              NaN\n",
            "Embarked                             S\n",
            "Name: 0, dtype: object\n",
            "PassengerId                          1\n",
            "Survived                             0\n",
            "Pclass                               3\n",
            "Name           Braund, Mr. Owen Harris\n",
            "Sex                               male\n",
            "Age                               22.0\n",
            "SibSp                                1\n",
            "Parch                                0\n",
            "Ticket                       A/5 21171\n",
            "Fare                              7.25\n",
            "Cabin                              NaN\n",
            "Embarked                             S\n",
            "Name: 0, dtype: object\n",
            "     PassengerId  Survived  Pclass  \\\n",
            "1              2         1       1   \n",
            "3              4         1       1   \n",
            "4              5         0       3   \n",
            "6              7         0       1   \n",
            "11            12         1       1   \n",
            "..           ...       ...     ...   \n",
            "873          874         0       3   \n",
            "879          880         1       1   \n",
            "881          882         0       3   \n",
            "885          886         0       3   \n",
            "890          891         0       3   \n",
            "\n",
            "                                                  Name     Sex   Age  SibSp  \\\n",
            "1    Cumings, Mrs. John Bradley (Florence Briggs Th...  female  38.0      1   \n",
            "3         Futrelle, Mrs. Jacques Heath (Lily May Peel)  female  35.0      1   \n",
            "4                             Allen, Mr. William Henry    male  35.0      0   \n",
            "6                              McCarthy, Mr. Timothy J    male  54.0      0   \n",
            "11                            Bonnell, Miss. Elizabeth  female  58.0      0   \n",
            "..                                                 ...     ...   ...    ...   \n",
            "873                        Vander Cruyssen, Mr. Victor    male  47.0      0   \n",
            "879      Potter, Mrs. Thomas Jr (Lily Alexenia Wilson)  female  56.0      0   \n",
            "881                                 Markun, Mr. Johann    male  33.0      0   \n",
            "885               Rice, Mrs. William (Margaret Norton)  female  39.0      0   \n",
            "890                                Dooley, Mr. Patrick    male  32.0      0   \n",
            "\n",
            "     Parch    Ticket     Fare Cabin Embarked  \n",
            "1        0  PC 17599  71.2833   C85        C  \n",
            "3        0    113803  53.1000  C123        S  \n",
            "4        0    373450   8.0500   NaN        S  \n",
            "6        0     17463  51.8625   E46        S  \n",
            "11       0    113783  26.5500  C103        S  \n",
            "..     ...       ...      ...   ...      ...  \n",
            "873      0    345765   9.0000   NaN        S  \n",
            "879      1     11767  83.1583   C50        C  \n",
            "881      0    349257   7.8958   NaN        S  \n",
            "885      5    382652  29.1250   NaN        Q  \n",
            "890      0    370376   7.7500   NaN        Q  \n",
            "\n",
            "[352 rows x 12 columns]\n"
          ]
        }
      ]
    },
    {
      "cell_type": "markdown",
      "source": [
        "## 5. Handling Missing Data"
      ],
      "metadata": {
        "id": "Qch22dl14N-f"
      }
    },
    {
      "cell_type": "markdown",
      "source": [
        "### 5.1 Detecting Missing Values\n",
        "* isnull(): Returns Boolean values indicating missing entries.\n",
        "* sum(): Aggregates the Boolean values to count missing values per column."
      ],
      "metadata": {
        "id": "uC-wsrZpNbgk"
      }
    },
    {
      "cell_type": "code",
      "source": [
        "# Check for missing values in each column:\n",
        "print(df.isnull().sum())\n"
      ],
      "metadata": {
        "id": "zyJTJeKkNYrC",
        "colab": {
          "base_uri": "https://localhost:8080/"
        },
        "outputId": "995e7cb5-2211-4da3-af7f-4f5194098e9f"
      },
      "execution_count": null,
      "outputs": [
        {
          "output_type": "stream",
          "name": "stdout",
          "text": [
            "PassengerId      0\n",
            "Survived         0\n",
            "Pclass           0\n",
            "Name             0\n",
            "Sex              0\n",
            "Age            177\n",
            "SibSp            0\n",
            "Parch            0\n",
            "Ticket           0\n",
            "Fare             0\n",
            "Cabin          687\n",
            "Embarked         2\n",
            "dtype: int64\n"
          ]
        }
      ]
    },
    {
      "cell_type": "markdown",
      "source": [
        "### 5.2 Dealing with Missing Values"
      ],
      "metadata": {
        "id": "fkkZsELM4fq9"
      }
    },
    {
      "cell_type": "markdown",
      "source": [
        "* dropna(): Useful when you can afford to remove rows with missing data.\n",
        "* fillna(): Replaces missing values to preserve dataset structure."
      ],
      "metadata": {
        "id": "Am2X2wHTOhN5"
      }
    },
    {
      "cell_type": "code",
      "source": [
        "# Remove rows with any missing values:\n",
        "df_clean = df.dropna()\n",
        "\n",
        "# Fill missing values with a specified value (e.g., 0):\n",
        "df_filled = df.fillna(0)\n",
        "\n",
        "# Remove column from dataset\n",
        "# Note: df.drop(columns=['column_name'], inplace=True) if use inplace this will parmanent change in the dataset\n",
        "df.drop(columns=['column_name'])"
      ],
      "metadata": {
        "id": "4J0nsSxH4jhq",
        "colab": {
          "base_uri": "https://localhost:8080/",
          "height": 338
        },
        "outputId": "b74a5880-3a70-4af6-9656-c9c151fcf25b"
      },
      "execution_count": null,
      "outputs": [
        {
          "output_type": "error",
          "ename": "KeyError",
          "evalue": "\"['column_name'] not found in axis\"",
          "traceback": [
            "\u001b[0;31m---------------------------------------------------------------------------\u001b[0m",
            "\u001b[0;31mKeyError\u001b[0m                                  Traceback (most recent call last)",
            "\u001b[0;32m<ipython-input-11-13ea873b401d>\u001b[0m in \u001b[0;36m<cell line: 0>\u001b[0;34m()\u001b[0m\n\u001b[1;32m      7\u001b[0m \u001b[0;31m# Remove column from dataset\u001b[0m\u001b[0;34m\u001b[0m\u001b[0;34m\u001b[0m\u001b[0m\n\u001b[1;32m      8\u001b[0m \u001b[0;31m# Note: df.drop(columns=['column_name'], inplace=True) if use inplace this will parmanent change in the dataset\u001b[0m\u001b[0;34m\u001b[0m\u001b[0;34m\u001b[0m\u001b[0m\n\u001b[0;32m----> 9\u001b[0;31m \u001b[0mdf\u001b[0m\u001b[0;34m.\u001b[0m\u001b[0mdrop\u001b[0m\u001b[0;34m(\u001b[0m\u001b[0mcolumns\u001b[0m\u001b[0;34m=\u001b[0m\u001b[0;34m[\u001b[0m\u001b[0;34m'column_name'\u001b[0m\u001b[0;34m]\u001b[0m\u001b[0;34m)\u001b[0m\u001b[0;34m\u001b[0m\u001b[0;34m\u001b[0m\u001b[0m\n\u001b[0m",
            "\u001b[0;32m/usr/local/lib/python3.11/dist-packages/pandas/core/frame.py\u001b[0m in \u001b[0;36mdrop\u001b[0;34m(self, labels, axis, index, columns, level, inplace, errors)\u001b[0m\n\u001b[1;32m   5579\u001b[0m                 \u001b[0mweight\u001b[0m  \u001b[0;36m1.0\u001b[0m     \u001b[0;36m0.8\u001b[0m\u001b[0;34m\u001b[0m\u001b[0;34m\u001b[0m\u001b[0m\n\u001b[1;32m   5580\u001b[0m         \"\"\"\n\u001b[0;32m-> 5581\u001b[0;31m         return super().drop(\n\u001b[0m\u001b[1;32m   5582\u001b[0m             \u001b[0mlabels\u001b[0m\u001b[0;34m=\u001b[0m\u001b[0mlabels\u001b[0m\u001b[0;34m,\u001b[0m\u001b[0;34m\u001b[0m\u001b[0;34m\u001b[0m\u001b[0m\n\u001b[1;32m   5583\u001b[0m             \u001b[0maxis\u001b[0m\u001b[0;34m=\u001b[0m\u001b[0maxis\u001b[0m\u001b[0;34m,\u001b[0m\u001b[0;34m\u001b[0m\u001b[0;34m\u001b[0m\u001b[0m\n",
            "\u001b[0;32m/usr/local/lib/python3.11/dist-packages/pandas/core/generic.py\u001b[0m in \u001b[0;36mdrop\u001b[0;34m(self, labels, axis, index, columns, level, inplace, errors)\u001b[0m\n\u001b[1;32m   4786\u001b[0m         \u001b[0;32mfor\u001b[0m \u001b[0maxis\u001b[0m\u001b[0;34m,\u001b[0m \u001b[0mlabels\u001b[0m \u001b[0;32min\u001b[0m \u001b[0maxes\u001b[0m\u001b[0;34m.\u001b[0m\u001b[0mitems\u001b[0m\u001b[0;34m(\u001b[0m\u001b[0;34m)\u001b[0m\u001b[0;34m:\u001b[0m\u001b[0;34m\u001b[0m\u001b[0;34m\u001b[0m\u001b[0m\n\u001b[1;32m   4787\u001b[0m             \u001b[0;32mif\u001b[0m \u001b[0mlabels\u001b[0m \u001b[0;32mis\u001b[0m \u001b[0;32mnot\u001b[0m \u001b[0;32mNone\u001b[0m\u001b[0;34m:\u001b[0m\u001b[0;34m\u001b[0m\u001b[0;34m\u001b[0m\u001b[0m\n\u001b[0;32m-> 4788\u001b[0;31m                 \u001b[0mobj\u001b[0m \u001b[0;34m=\u001b[0m \u001b[0mobj\u001b[0m\u001b[0;34m.\u001b[0m\u001b[0m_drop_axis\u001b[0m\u001b[0;34m(\u001b[0m\u001b[0mlabels\u001b[0m\u001b[0;34m,\u001b[0m \u001b[0maxis\u001b[0m\u001b[0;34m,\u001b[0m \u001b[0mlevel\u001b[0m\u001b[0;34m=\u001b[0m\u001b[0mlevel\u001b[0m\u001b[0;34m,\u001b[0m \u001b[0merrors\u001b[0m\u001b[0;34m=\u001b[0m\u001b[0merrors\u001b[0m\u001b[0;34m)\u001b[0m\u001b[0;34m\u001b[0m\u001b[0;34m\u001b[0m\u001b[0m\n\u001b[0m\u001b[1;32m   4789\u001b[0m \u001b[0;34m\u001b[0m\u001b[0m\n\u001b[1;32m   4790\u001b[0m         \u001b[0;32mif\u001b[0m \u001b[0minplace\u001b[0m\u001b[0;34m:\u001b[0m\u001b[0;34m\u001b[0m\u001b[0;34m\u001b[0m\u001b[0m\n",
            "\u001b[0;32m/usr/local/lib/python3.11/dist-packages/pandas/core/generic.py\u001b[0m in \u001b[0;36m_drop_axis\u001b[0;34m(self, labels, axis, level, errors, only_slice)\u001b[0m\n\u001b[1;32m   4828\u001b[0m                 \u001b[0mnew_axis\u001b[0m \u001b[0;34m=\u001b[0m \u001b[0maxis\u001b[0m\u001b[0;34m.\u001b[0m\u001b[0mdrop\u001b[0m\u001b[0;34m(\u001b[0m\u001b[0mlabels\u001b[0m\u001b[0;34m,\u001b[0m \u001b[0mlevel\u001b[0m\u001b[0;34m=\u001b[0m\u001b[0mlevel\u001b[0m\u001b[0;34m,\u001b[0m \u001b[0merrors\u001b[0m\u001b[0;34m=\u001b[0m\u001b[0merrors\u001b[0m\u001b[0;34m)\u001b[0m\u001b[0;34m\u001b[0m\u001b[0;34m\u001b[0m\u001b[0m\n\u001b[1;32m   4829\u001b[0m             \u001b[0;32melse\u001b[0m\u001b[0;34m:\u001b[0m\u001b[0;34m\u001b[0m\u001b[0;34m\u001b[0m\u001b[0m\n\u001b[0;32m-> 4830\u001b[0;31m                 \u001b[0mnew_axis\u001b[0m \u001b[0;34m=\u001b[0m \u001b[0maxis\u001b[0m\u001b[0;34m.\u001b[0m\u001b[0mdrop\u001b[0m\u001b[0;34m(\u001b[0m\u001b[0mlabels\u001b[0m\u001b[0;34m,\u001b[0m \u001b[0merrors\u001b[0m\u001b[0;34m=\u001b[0m\u001b[0merrors\u001b[0m\u001b[0;34m)\u001b[0m\u001b[0;34m\u001b[0m\u001b[0;34m\u001b[0m\u001b[0m\n\u001b[0m\u001b[1;32m   4831\u001b[0m             \u001b[0mindexer\u001b[0m \u001b[0;34m=\u001b[0m \u001b[0maxis\u001b[0m\u001b[0;34m.\u001b[0m\u001b[0mget_indexer\u001b[0m\u001b[0;34m(\u001b[0m\u001b[0mnew_axis\u001b[0m\u001b[0;34m)\u001b[0m\u001b[0;34m\u001b[0m\u001b[0;34m\u001b[0m\u001b[0m\n\u001b[1;32m   4832\u001b[0m \u001b[0;34m\u001b[0m\u001b[0m\n",
            "\u001b[0;32m/usr/local/lib/python3.11/dist-packages/pandas/core/indexes/base.py\u001b[0m in \u001b[0;36mdrop\u001b[0;34m(self, labels, errors)\u001b[0m\n\u001b[1;32m   7068\u001b[0m         \u001b[0;32mif\u001b[0m \u001b[0mmask\u001b[0m\u001b[0;34m.\u001b[0m\u001b[0many\u001b[0m\u001b[0;34m(\u001b[0m\u001b[0;34m)\u001b[0m\u001b[0;34m:\u001b[0m\u001b[0;34m\u001b[0m\u001b[0;34m\u001b[0m\u001b[0m\n\u001b[1;32m   7069\u001b[0m             \u001b[0;32mif\u001b[0m \u001b[0merrors\u001b[0m \u001b[0;34m!=\u001b[0m \u001b[0;34m\"ignore\"\u001b[0m\u001b[0;34m:\u001b[0m\u001b[0;34m\u001b[0m\u001b[0;34m\u001b[0m\u001b[0m\n\u001b[0;32m-> 7070\u001b[0;31m                 \u001b[0;32mraise\u001b[0m \u001b[0mKeyError\u001b[0m\u001b[0;34m(\u001b[0m\u001b[0;34mf\"{labels[mask].tolist()} not found in axis\"\u001b[0m\u001b[0;34m)\u001b[0m\u001b[0;34m\u001b[0m\u001b[0;34m\u001b[0m\u001b[0m\n\u001b[0m\u001b[1;32m   7071\u001b[0m             \u001b[0mindexer\u001b[0m \u001b[0;34m=\u001b[0m \u001b[0mindexer\u001b[0m\u001b[0;34m[\u001b[0m\u001b[0;34m~\u001b[0m\u001b[0mmask\u001b[0m\u001b[0;34m]\u001b[0m\u001b[0;34m\u001b[0m\u001b[0;34m\u001b[0m\u001b[0m\n\u001b[1;32m   7072\u001b[0m         \u001b[0;32mreturn\u001b[0m \u001b[0mself\u001b[0m\u001b[0;34m.\u001b[0m\u001b[0mdelete\u001b[0m\u001b[0;34m(\u001b[0m\u001b[0mindexer\u001b[0m\u001b[0;34m)\u001b[0m\u001b[0;34m\u001b[0m\u001b[0;34m\u001b[0m\u001b[0m\n",
            "\u001b[0;31mKeyError\u001b[0m: \"['column_name'] not found in axis\""
          ]
        }
      ]
    },
    {
      "cell_type": "markdown",
      "source": [
        "## 6. Data Aggregation and Grouping"
      ],
      "metadata": {
        "id": "SZ47cH0u4s4S"
      }
    },
    {
      "cell_type": "markdown",
      "source": [
        "### 6.1 GroupBy Operations\n",
        "* groupby(): Segments data into groups based on a specified key.\n",
        "* Aggregation: Applies functions like mean to summarize data within groups.\n",
        "\n"
      ],
      "metadata": {
        "id": "DI89VV03O3tA"
      }
    },
    {
      "cell_type": "code",
      "source": [
        "# Example DataFrame for grouping:\n",
        "data_group = {\n",
        "    'Category': ['A', 'B', 'A', 'B', 'A'],\n",
        "    'Values': [10, 20, 15, 25, 10]\n",
        "}\n",
        "df_group = pd.DataFrame(data_group)\n",
        "\n",
        "# Group by 'Category' and compute the mean of 'Values':\n",
        "grouped = df_group.groupby('Category')['Values'].mean()\n",
        "print(grouped)\n"
      ],
      "metadata": {
        "id": "1IrAntg04yKQ"
      },
      "execution_count": null,
      "outputs": []
    },
    {
      "cell_type": "markdown",
      "source": [
        "### 6.2 Pivot Tables\n",
        "Pivot Table: Rearranges and summarizes data across two dimensions, similar to pivot tables in spreadsheets."
      ],
      "metadata": {
        "id": "BgP_9eVrSWzO"
      }
    },
    {
      "cell_type": "code",
      "source": [
        "# Create a pivot table to summarize data:\n",
        "pivot = df_group.pivot_table(values='Values', index='Category', aggfunc='sum')\n",
        "print(pivot)\n"
      ],
      "metadata": {
        "id": "6BWzCK4uSe3m"
      },
      "execution_count": null,
      "outputs": []
    },
    {
      "cell_type": "markdown",
      "source": [
        "## 7. Merging, Joining, and Concatenating DataFrames"
      ],
      "metadata": {
        "id": "bV9O-rTASlc5"
      }
    },
    {
      "cell_type": "markdown",
      "source": [
        "### 7.1 Merging DataFrames\n",
        "* Merging: Combines DataFrames similar to SQL joins using a common key.\n",
        "* how Parameter: Determines the type of join (inner, left, right, outer)."
      ],
      "metadata": {
        "id": "7kBxxUYkSrXA"
      }
    },
    {
      "cell_type": "markdown",
      "source": [
        "* Inner = Jo dono mein common hai\n",
        "* Left = Pehli table puri\n",
        "* Right = Doosri table puri\n",
        "* Outer = Dono tables puri"
      ],
      "metadata": {
        "id": "9KWt5IzVhhfk"
      }
    },
    {
      "cell_type": "code",
      "source": [
        "# Define two DataFrames with a common key:\n",
        "df_left = pd.DataFrame({\n",
        "    'ID': [1, 2, 3],\n",
        "    'Name': ['Alice', 'Bob', 'Charlie']\n",
        "})\n",
        "df_right = pd.DataFrame({\n",
        "    'ID': [1, 2, 4],\n",
        "    'Score': [85, 90, 95]\n",
        "})\n",
        "\n",
        "# Merge DataFrames on 'ID' using an inner join:\n",
        "df_merged = pd.merge(df_left, df_right, on='ID', how='inner')\n",
        "print(df_merged)\n"
      ],
      "metadata": {
        "id": "7YXr4vm2S5mc"
      },
      "execution_count": null,
      "outputs": []
    },
    {
      "cell_type": "markdown",
      "source": [
        "### 7.2 Concatenating DataFrames\n",
        "Appends DataFrames without a common key, stacking them vertically or horizontally.\n"
      ],
      "metadata": {
        "id": "rxGka3quS90L"
      }
    },
    {
      "cell_type": "code",
      "source": [
        "# Concatenate DataFrames vertically:\n",
        "df_concat = pd.concat([df_left, df_left])\n",
        "print(df_concat)\n"
      ],
      "metadata": {
        "id": "EnJyqvUiTHpF"
      },
      "execution_count": null,
      "outputs": []
    },
    {
      "cell_type": "markdown",
      "source": [
        "## 8. Advanced Pandas Topics"
      ],
      "metadata": {
        "id": "hgojZ3v_TPhr"
      }
    },
    {
      "cell_type": "markdown",
      "source": [
        "### 8.1 Applying Functions to Data\n",
        "* apply(): Executes a function on each element in a Series or DataFrame.\n",
        "* Useful for custom data transformations not covered by built-in methods."
      ],
      "metadata": {
        "id": "FcKnL_c6TWZ4"
      }
    },
    {
      "cell_type": "markdown",
      "source": [
        "\n",
        "\n",
        "> About **Lambda**: A lambda function is a small anonymous function defined with the lambda keyword. It can have any number of input parameters but only one expression. The expression is evaluated and returned when the lambda function is called.\n",
        "```\n",
        "lambda arguments: expression\n",
        "```\n",
        "\n"
      ],
      "metadata": {
        "id": "1RKaZ29Gu2mk"
      }
    },
    {
      "cell_type": "code",
      "source": [
        "# Apply a lambda function to increment 'Age' by 10:\n",
        "df['Age_plus_10'] = df['Age'].apply(lambda x: x + 10)\n",
        "print(df)\n"
      ],
      "metadata": {
        "id": "GKeUG5STTgKt"
      },
      "execution_count": null,
      "outputs": []
    },
    {
      "cell_type": "markdown",
      "source": [
        "### 8.2 Time Series Analysis\n",
        "* Date Ranges: pd.date_range generates a sequence of dates.\n",
        "* Indexing by Date: Facilitates time-based operations like resampling and rolling statistics."
      ],
      "metadata": {
        "id": "8ElBeJGeTmHb"
      }
    },
    {
      "cell_type": "code",
      "source": [
        "# Create a time series DataFrame with a date range as the index:\n",
        "date_range = pd.date_range(start='2025-01-01', periods=5, freq='D')\n",
        "df_timeseries = pd.DataFrame({'Date': date_range, 'Value': [10, 20, 30, 40, 50]})\n",
        "\n",
        "# Set the 'Date' column as the index:\n",
        "df_timeseries.set_index('Date', inplace=True)\n",
        "print(df_timeseries)\n"
      ],
      "metadata": {
        "id": "bfYw2ViGT2RD"
      },
      "execution_count": null,
      "outputs": []
    },
    {
      "cell_type": "markdown",
      "source": [
        "## 9. Common Questions and How to Explain Them"
      ],
      "metadata": {
        "id": "aH8hywf9W7yU"
      }
    },
    {
      "cell_type": "markdown",
      "source": [
        "\n",
        "\n",
        "1. **What is Pandas and what are its primary data structures?**  \n",
        "   **Answer:**  \n",
        "   - **Pandas:** Python library for data manipulation and analysis.\n",
        "   - **Series:** 1D labeled array.\n",
        "   - **DataFrame:** 2D labeled data structure (table).\n",
        "\n",
        "2. **Difference between Series and DataFrame?**  \n",
        "   **Answer:**  \n",
        "   - **Series:** Single column of data with an index.\n",
        "   - **DataFrame:** Collection of Series sharing the same index, supporting heterogeneous data.\n",
        "\n",
        "3. **How do you handle missing data?**  \n",
        "   **Answer:**  \n",
        "   - Remove missing values: `df.dropna()`.\n",
        "   - Impute missing values: `df.fillna(value)`.\n",
        "\n",
        "4. **Difference between `.loc` and `.iloc`?**  \n",
        "   **Answer:**  \n",
        "   - **.loc:** Label-based indexing.\n",
        "   - **.iloc:** Integer position-based indexing.\n",
        "\n",
        "5. **What are GroupBy operations?**  \n",
        "   **Answer:**  \n",
        "   - Use `df.groupby(key).agg(func)` to split data by key, apply aggregation (mean, sum, etc.), and combine results.\n"
      ],
      "metadata": {
        "id": "m4BNe1pcX830"
      }
    }
  ]
}