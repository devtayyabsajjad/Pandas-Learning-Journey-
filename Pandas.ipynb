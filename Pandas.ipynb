{
  "nbformat": 4,
  "nbformat_minor": 0,
  "metadata": {
    "colab": {
      "provenance": [],
      "include_colab_link": true
    },
    "kernelspec": {
      "name": "python3",
      "display_name": "Python 3"
    },
    "language_info": {
      "name": "python"
    }
  },
  "cells": [
    {
      "cell_type": "markdown",
      "metadata": {
        "id": "view-in-github",
        "colab_type": "text"
      },
      "source": [
        "<a href=\"https://colab.research.google.com/github/devtayyabsajjad/Pandas-Learning-Journey-/blob/main/Pandas.ipynb\" target=\"_parent\"><img src=\"https://colab.research.google.com/assets/colab-badge.svg\" alt=\"Open In Colab\"/></a>"
      ]
    },
    {
      "cell_type": "markdown",
      "source": [
        "\n",
        "<img src=\"https://pandas.pydata.org/static/img/pandas_white.svg\" style=\"background-color: black; padding: 10px;\">\n",
        "\n",
        "\n",
        "---\n",
        "\n",
        "## Table of Contents\n",
        "\n",
        "1. [Introduction to Pandas](#introduction-to-pandas)\n",
        "2. [Setting Up and Basic Data Structures](#setting-up-and-basic-data-structures)\n",
        "   - [Installing and Importing Pandas](#installing-and-importing-pandas)\n",
        "   - [Pandas Data Structures](#creating-a-series-and-dataframe)\n",
        "3. [Data Loading and I/O Operations](#data-loading-and-io-operations)\n",
        "   - [Reading Data from Files](#reading-data-from-files)\n",
        "   - [Writing Data to Files](#writing-data-to-files)\n",
        "4. [Data Exploration and Manipulation](#data-exploration-and-manipulation)\n",
        "   - [Exploring Your Data](#exploring-your-data)\n",
        "   - [Selecting and Filtering Data](#selecting-and-filtering-data)\n",
        "5. [Handling Missing Data](#handling-missing-data)\n",
        "   - [Detecting Missing Values](#detecting-missing-values)\n",
        "   - [Dealing with Missing Values](#dealing-with-missing-values)\n",
        "6. [Data Aggregation and Grouping](#data-aggregation-and-grouping)\n",
        "   - [GroupBy Operations](#groupby-operations)\n",
        "   - [Pivot Tables](#pivot-tables)\n",
        "7. [Merging, Joining, and Concatenating DataFrames](#merging-joining-and-concatenating-dataframes)\n",
        "   - [Merging DataFrames](#merging-dataframes)\n",
        "   - [Concatenating DataFrames](#concatenating-dataframes)\n",
        "8. [Advanced Pandas Topics](#advanced-pandas-topics)\n",
        "   - [Applying Functions to Data](#applying-functions-to-data)\n",
        "   - [Time Series Analysis](#time-series-analysis)\n",
        "   - [Performance Optimization Techniques](#performance-optimization-techniques)\n",
        "9. [Common Questions and How to Explain Them](#common-interview-questions-and-how-to-explain-them)\n",
        "\n",
        "\n",
        "---\n",
        "\n"
      ],
      "metadata": {
        "id": "j0e8ZbYEzQct"
      }
    },
    {
      "cell_type": "markdown",
      "source": [
        "## 1. Introduction"
      ],
      "metadata": {
        "id": "KwT6qlXQ09K2"
      }
    },
    {
      "cell_type": "markdown",
      "source": [
        "  Pandas is a powerful Python library designed for data manipulation and analysis.\n",
        "\n",
        "\n",
        "**Why Pandas?**  \n",
        "- **Ease of Use:** Simplifies complex data operations into intuitive commands.\n",
        "- **Data Analysis:** Offers powerful tools for cleaning, filtering, grouping, and aggregation.\n",
        "- **Integration:** Works seamlessly with libraries like NumPy, Matplotlib, and Scikit-learn.\n",
        "\n",
        "---\n",
        "\n"
      ],
      "metadata": {
        "id": "Wr_JXV1K02So"
      }
    },
    {
      "cell_type": "markdown",
      "source": [
        "##2. Setting up and Basic Data Structure"
      ],
      "metadata": {
        "id": "5ABow0JdIFJ1"
      }
    },
    {
      "cell_type": "markdown",
      "source": [
        "### 2.1 Installing and Importing Pandas\n",
        "\n",
        "Before using Pandas, ensure that it's installed. You can install it via pip if needed:\n",
        "\n",
        "```python\n",
        "# To install pandas, run:\n",
        "# pip install pandas\n",
        "\n",
        "# Then, import pandas in your Python script:\n",
        "import pandas as pd\n"
      ],
      "metadata": {
        "id": "oJHVuN-CIV0j"
      }
    },
    {
      "cell_type": "markdown",
      "source": [
        "### 2.2 Pandas Data Structures\n",
        "\n",
        "Pandas primarily uses two data structures: **Series** and **DataFrame**."
      ],
      "metadata": {
        "id": "5LspcfXz1Vri"
      }
    },
    {
      "cell_type": "markdown",
      "source": [
        "### Series\n",
        "\n",
        "A Series is a one-dimensional array-like object with labeled indices.\n",
        "![DataFrame](https://pandas.pydata.org/docs/_images/01_table_series.svg)\n",
        "\n"
      ],
      "metadata": {
        "id": "kZJ2w6vl1GLq"
      }
    },
    {
      "cell_type": "code",
      "source": [
        "import pandas as pd\n",
        "\n",
        "# Creating a simple Series\n",
        "s = pd.Series([10, 20, 30, 40])\n",
        "print(\"Series:\")\n",
        "print(s)"
      ],
      "metadata": {
        "id": "JBQc5Xw61wfw"
      },
      "execution_count": null,
      "outputs": []
    },
    {
      "cell_type": "markdown",
      "source": [
        "### DataFrame\n",
        "\n",
        "A DataFrame is a two-dimensional, size-mutable, and heterogeneous tabular data structure with labeled axes (rows and columns).\n",
        "![DataFrame](https://pandas.pydata.org/docs/_images/01_table_dataframe.svg)\n"
      ],
      "metadata": {
        "id": "3Umpfriv2fqu"
      }
    },
    {
      "cell_type": "code",
      "source": [
        "# Creating a simple DataFrame\n",
        "import pandas as pd\n",
        "data = {'Name': ['Alice', 'Bob', 'Charlie'], 'Age': [25, 30, 35]}  # pandas deal hetrogenous data type\n",
        "df = pd.DataFrame(data)\n",
        "print(\"\\nDataFrame:\")\n",
        "print(df)\n"
      ],
      "metadata": {
        "id": "97_GRb8D19kX",
        "colab": {
          "base_uri": "https://localhost:8080/"
        },
        "outputId": "861e9965-3bd0-489c-ac1c-32078777487a"
      },
      "execution_count": null,
      "outputs": [
        {
          "output_type": "stream",
          "name": "stdout",
          "text": [
            "\n",
            "DataFrame:\n",
            "      Name  Age\n",
            "0    Alice   25\n",
            "1      Bob   30\n",
            "2  Charlie   35\n"
          ]
        }
      ]
    },
    {
      "cell_type": "markdown",
      "source": [
        "## 3. Data Loading and I/O Operations\n",
        "Pandas makes it easy to read data from and write data to various file formats such as **CSV**, **Excel**, **JSON**, and **SQL databases**.\n",
        "\n",
        "\n",
        "\n",
        "\n"
      ],
      "metadata": {
        "id": "spOltJL_24w7"
      }
    },
    {
      "cell_type": "code",
      "source": [
        "# Example: Reading a CSV file\n",
        "df = pd.read_csv('/content/output.csv')\n",
        "print(df.shape)\n",
        "df.tail(10)\n"
      ],
      "metadata": {
        "colab": {
          "base_uri": "https://localhost:8080/",
          "height": 162
        },
        "id": "aXy6hMHo2oQi",
        "outputId": "f5009e9a-c7af-4729-b6ed-3490b7e71b70"
      },
      "execution_count": null,
      "outputs": [
        {
          "output_type": "stream",
          "name": "stdout",
          "text": [
            "(3, 2)\n"
          ]
        },
        {
          "output_type": "execute_result",
          "data": {
            "text/plain": [
              "      Name  Age\n",
              "0    Alice   25\n",
              "1      Bob   30\n",
              "2  Charlie   35"
            ],
            "text/html": [
              "\n",
              "  <div id=\"df-884eef03-510a-4f1b-9b69-b522b3f7749f\" class=\"colab-df-container\">\n",
              "    <div>\n",
              "<style scoped>\n",
              "    .dataframe tbody tr th:only-of-type {\n",
              "        vertical-align: middle;\n",
              "    }\n",
              "\n",
              "    .dataframe tbody tr th {\n",
              "        vertical-align: top;\n",
              "    }\n",
              "\n",
              "    .dataframe thead th {\n",
              "        text-align: right;\n",
              "    }\n",
              "</style>\n",
              "<table border=\"1\" class=\"dataframe\">\n",
              "  <thead>\n",
              "    <tr style=\"text-align: right;\">\n",
              "      <th></th>\n",
              "      <th>Name</th>\n",
              "      <th>Age</th>\n",
              "    </tr>\n",
              "  </thead>\n",
              "  <tbody>\n",
              "    <tr>\n",
              "      <th>0</th>\n",
              "      <td>Alice</td>\n",
              "      <td>25</td>\n",
              "    </tr>\n",
              "    <tr>\n",
              "      <th>1</th>\n",
              "      <td>Bob</td>\n",
              "      <td>30</td>\n",
              "    </tr>\n",
              "    <tr>\n",
              "      <th>2</th>\n",
              "      <td>Charlie</td>\n",
              "      <td>35</td>\n",
              "    </tr>\n",
              "  </tbody>\n",
              "</table>\n",
              "</div>\n",
              "    <div class=\"colab-df-buttons\">\n",
              "\n",
              "  <div class=\"colab-df-container\">\n",
              "    <button class=\"colab-df-convert\" onclick=\"convertToInteractive('df-884eef03-510a-4f1b-9b69-b522b3f7749f')\"\n",
              "            title=\"Convert this dataframe to an interactive table.\"\n",
              "            style=\"display:none;\">\n",
              "\n",
              "  <svg xmlns=\"http://www.w3.org/2000/svg\" height=\"24px\" viewBox=\"0 -960 960 960\">\n",
              "    <path d=\"M120-120v-720h720v720H120Zm60-500h600v-160H180v160Zm220 220h160v-160H400v160Zm0 220h160v-160H400v160ZM180-400h160v-160H180v160Zm440 0h160v-160H620v160ZM180-180h160v-160H180v160Zm440 0h160v-160H620v160Z\"/>\n",
              "  </svg>\n",
              "    </button>\n",
              "\n",
              "  <style>\n",
              "    .colab-df-container {\n",
              "      display:flex;\n",
              "      gap: 12px;\n",
              "    }\n",
              "\n",
              "    .colab-df-convert {\n",
              "      background-color: #E8F0FE;\n",
              "      border: none;\n",
              "      border-radius: 50%;\n",
              "      cursor: pointer;\n",
              "      display: none;\n",
              "      fill: #1967D2;\n",
              "      height: 32px;\n",
              "      padding: 0 0 0 0;\n",
              "      width: 32px;\n",
              "    }\n",
              "\n",
              "    .colab-df-convert:hover {\n",
              "      background-color: #E2EBFA;\n",
              "      box-shadow: 0px 1px 2px rgba(60, 64, 67, 0.3), 0px 1px 3px 1px rgba(60, 64, 67, 0.15);\n",
              "      fill: #174EA6;\n",
              "    }\n",
              "\n",
              "    .colab-df-buttons div {\n",
              "      margin-bottom: 4px;\n",
              "    }\n",
              "\n",
              "    [theme=dark] .colab-df-convert {\n",
              "      background-color: #3B4455;\n",
              "      fill: #D2E3FC;\n",
              "    }\n",
              "\n",
              "    [theme=dark] .colab-df-convert:hover {\n",
              "      background-color: #434B5C;\n",
              "      box-shadow: 0px 1px 3px 1px rgba(0, 0, 0, 0.15);\n",
              "      filter: drop-shadow(0px 1px 2px rgba(0, 0, 0, 0.3));\n",
              "      fill: #FFFFFF;\n",
              "    }\n",
              "  </style>\n",
              "\n",
              "    <script>\n",
              "      const buttonEl =\n",
              "        document.querySelector('#df-884eef03-510a-4f1b-9b69-b522b3f7749f button.colab-df-convert');\n",
              "      buttonEl.style.display =\n",
              "        google.colab.kernel.accessAllowed ? 'block' : 'none';\n",
              "\n",
              "      async function convertToInteractive(key) {\n",
              "        const element = document.querySelector('#df-884eef03-510a-4f1b-9b69-b522b3f7749f');\n",
              "        const dataTable =\n",
              "          await google.colab.kernel.invokeFunction('convertToInteractive',\n",
              "                                                    [key], {});\n",
              "        if (!dataTable) return;\n",
              "\n",
              "        const docLinkHtml = 'Like what you see? Visit the ' +\n",
              "          '<a target=\"_blank\" href=https://colab.research.google.com/notebooks/data_table.ipynb>data table notebook</a>'\n",
              "          + ' to learn more about interactive tables.';\n",
              "        element.innerHTML = '';\n",
              "        dataTable['output_type'] = 'display_data';\n",
              "        await google.colab.output.renderOutput(dataTable, element);\n",
              "        const docLink = document.createElement('div');\n",
              "        docLink.innerHTML = docLinkHtml;\n",
              "        element.appendChild(docLink);\n",
              "      }\n",
              "    </script>\n",
              "  </div>\n",
              "\n",
              "\n",
              "<div id=\"df-dbf2dd04-22ed-4bcb-ad7e-874b2fc7011c\">\n",
              "  <button class=\"colab-df-quickchart\" onclick=\"quickchart('df-dbf2dd04-22ed-4bcb-ad7e-874b2fc7011c')\"\n",
              "            title=\"Suggest charts\"\n",
              "            style=\"display:none;\">\n",
              "\n",
              "<svg xmlns=\"http://www.w3.org/2000/svg\" height=\"24px\"viewBox=\"0 0 24 24\"\n",
              "     width=\"24px\">\n",
              "    <g>\n",
              "        <path d=\"M19 3H5c-1.1 0-2 .9-2 2v14c0 1.1.9 2 2 2h14c1.1 0 2-.9 2-2V5c0-1.1-.9-2-2-2zM9 17H7v-7h2v7zm4 0h-2V7h2v10zm4 0h-2v-4h2v4z\"/>\n",
              "    </g>\n",
              "</svg>\n",
              "  </button>\n",
              "\n",
              "<style>\n",
              "  .colab-df-quickchart {\n",
              "      --bg-color: #E8F0FE;\n",
              "      --fill-color: #1967D2;\n",
              "      --hover-bg-color: #E2EBFA;\n",
              "      --hover-fill-color: #174EA6;\n",
              "      --disabled-fill-color: #AAA;\n",
              "      --disabled-bg-color: #DDD;\n",
              "  }\n",
              "\n",
              "  [theme=dark] .colab-df-quickchart {\n",
              "      --bg-color: #3B4455;\n",
              "      --fill-color: #D2E3FC;\n",
              "      --hover-bg-color: #434B5C;\n",
              "      --hover-fill-color: #FFFFFF;\n",
              "      --disabled-bg-color: #3B4455;\n",
              "      --disabled-fill-color: #666;\n",
              "  }\n",
              "\n",
              "  .colab-df-quickchart {\n",
              "    background-color: var(--bg-color);\n",
              "    border: none;\n",
              "    border-radius: 50%;\n",
              "    cursor: pointer;\n",
              "    display: none;\n",
              "    fill: var(--fill-color);\n",
              "    height: 32px;\n",
              "    padding: 0;\n",
              "    width: 32px;\n",
              "  }\n",
              "\n",
              "  .colab-df-quickchart:hover {\n",
              "    background-color: var(--hover-bg-color);\n",
              "    box-shadow: 0 1px 2px rgba(60, 64, 67, 0.3), 0 1px 3px 1px rgba(60, 64, 67, 0.15);\n",
              "    fill: var(--button-hover-fill-color);\n",
              "  }\n",
              "\n",
              "  .colab-df-quickchart-complete:disabled,\n",
              "  .colab-df-quickchart-complete:disabled:hover {\n",
              "    background-color: var(--disabled-bg-color);\n",
              "    fill: var(--disabled-fill-color);\n",
              "    box-shadow: none;\n",
              "  }\n",
              "\n",
              "  .colab-df-spinner {\n",
              "    border: 2px solid var(--fill-color);\n",
              "    border-color: transparent;\n",
              "    border-bottom-color: var(--fill-color);\n",
              "    animation:\n",
              "      spin 1s steps(1) infinite;\n",
              "  }\n",
              "\n",
              "  @keyframes spin {\n",
              "    0% {\n",
              "      border-color: transparent;\n",
              "      border-bottom-color: var(--fill-color);\n",
              "      border-left-color: var(--fill-color);\n",
              "    }\n",
              "    20% {\n",
              "      border-color: transparent;\n",
              "      border-left-color: var(--fill-color);\n",
              "      border-top-color: var(--fill-color);\n",
              "    }\n",
              "    30% {\n",
              "      border-color: transparent;\n",
              "      border-left-color: var(--fill-color);\n",
              "      border-top-color: var(--fill-color);\n",
              "      border-right-color: var(--fill-color);\n",
              "    }\n",
              "    40% {\n",
              "      border-color: transparent;\n",
              "      border-right-color: var(--fill-color);\n",
              "      border-top-color: var(--fill-color);\n",
              "    }\n",
              "    60% {\n",
              "      border-color: transparent;\n",
              "      border-right-color: var(--fill-color);\n",
              "    }\n",
              "    80% {\n",
              "      border-color: transparent;\n",
              "      border-right-color: var(--fill-color);\n",
              "      border-bottom-color: var(--fill-color);\n",
              "    }\n",
              "    90% {\n",
              "      border-color: transparent;\n",
              "      border-bottom-color: var(--fill-color);\n",
              "    }\n",
              "  }\n",
              "</style>\n",
              "\n",
              "  <script>\n",
              "    async function quickchart(key) {\n",
              "      const quickchartButtonEl =\n",
              "        document.querySelector('#' + key + ' button');\n",
              "      quickchartButtonEl.disabled = true;  // To prevent multiple clicks.\n",
              "      quickchartButtonEl.classList.add('colab-df-spinner');\n",
              "      try {\n",
              "        const charts = await google.colab.kernel.invokeFunction(\n",
              "            'suggestCharts', [key], {});\n",
              "      } catch (error) {\n",
              "        console.error('Error during call to suggestCharts:', error);\n",
              "      }\n",
              "      quickchartButtonEl.classList.remove('colab-df-spinner');\n",
              "      quickchartButtonEl.classList.add('colab-df-quickchart-complete');\n",
              "    }\n",
              "    (() => {\n",
              "      let quickchartButtonEl =\n",
              "        document.querySelector('#df-dbf2dd04-22ed-4bcb-ad7e-874b2fc7011c button');\n",
              "      quickchartButtonEl.style.display =\n",
              "        google.colab.kernel.accessAllowed ? 'block' : 'none';\n",
              "    })();\n",
              "  </script>\n",
              "</div>\n",
              "\n",
              "    </div>\n",
              "  </div>\n"
            ],
            "application/vnd.google.colaboratory.intrinsic+json": {
              "type": "dataframe",
              "summary": "{\n  \"name\": \"df\",\n  \"rows\": 3,\n  \"fields\": [\n    {\n      \"column\": \"Name\",\n      \"properties\": {\n        \"dtype\": \"string\",\n        \"num_unique_values\": 3,\n        \"samples\": [\n          \"Alice\",\n          \"Bob\",\n          \"Charlie\"\n        ],\n        \"semantic_type\": \"\",\n        \"description\": \"\"\n      }\n    },\n    {\n      \"column\": \"Age\",\n      \"properties\": {\n        \"dtype\": \"number\",\n        \"std\": 5,\n        \"min\": 25,\n        \"max\": 35,\n        \"num_unique_values\": 3,\n        \"samples\": [\n          25,\n          30,\n          35\n        ],\n        \"semantic_type\": \"\",\n        \"description\": \"\"\n      }\n    }\n  ]\n}"
            }
          },
          "metadata": {},
          "execution_count": 24
        }
      ]
    },
    {
      "cell_type": "code",
      "source": [
        "from google.colab import drive\n",
        "drive.mount('/content/drive')"
      ],
      "metadata": {
        "colab": {
          "base_uri": "https://localhost:8080/"
        },
        "id": "_xooY5RpCxS1",
        "outputId": "22a3135f-138b-4adf-8b3e-a307ea5ab38c"
      },
      "execution_count": null,
      "outputs": [
        {
          "output_type": "stream",
          "name": "stdout",
          "text": [
            "Mounted at /content/drive\n"
          ]
        }
      ]
    },
    {
      "cell_type": "code",
      "source": [
        "import pandas as pd\n",
        "import seaborn as sns\n",
        "dataset = sns.load_dataset('titanic')"
      ],
      "metadata": {
        "id": "5DQqiD49FGLH"
      },
      "execution_count": null,
      "outputs": []
    },
    {
      "cell_type": "code",
      "source": [
        "# Writing a DataFrame to a CSV file\n",
        "df.to_csv('output.csv', index=False) # 'False' excludes the index column from the CSV file.\n"
      ],
      "metadata": {
        "id": "rctKyLuO3cLh"
      },
      "execution_count": null,
      "outputs": []
    },
    {
      "cell_type": "markdown",
      "source": [
        "## 4. Data Exploration and Manipulation"
      ],
      "metadata": {
        "id": "FuP7WCd63qYJ"
      }
    },
    {
      "cell_type": "markdown",
      "source": [
        "### 4.1 Exploring Your Data\n",
        "Before diving deep, inspect your dataset to understand its structure."
      ],
      "metadata": {
        "id": "Ww_UCYm-LavG"
      }
    },
    {
      "cell_type": "markdown",
      "source": [
        "\n",
        "\n",
        "*   head(): Shows the first 5 rows by default.\n",
        "\n",
        "*   info(): Provides details on data types and missing values.\n",
        "*   describe(): Summarizes statistical measures like mean and standard deviation.\n",
        "\n",
        "\n"
      ],
      "metadata": {
        "id": "jT7jtc7TLYQb"
      }
    },
    {
      "cell_type": "code",
      "source": [
        "# Generate descriptive statistics for numerical columns:\n",
        "dataset.tail(20)"
      ],
      "metadata": {
        "colab": {
          "base_uri": "https://localhost:8080/",
          "height": 226
        },
        "id": "jpXgk9Dk6IuV",
        "outputId": "91a644a7-0d3c-491c-f43b-7beab35116b5"
      },
      "execution_count": null,
      "outputs": [
        {
          "output_type": "execute_result",
          "data": {
            "text/plain": [
              "     survived  pclass     sex   age  sibsp  parch   fare embarked   class  \\\n",
              "886         0       2    male  27.0      0      0  13.00        S  Second   \n",
              "887         1       1  female  19.0      0      0  30.00        S   First   \n",
              "888         0       3  female   NaN      1      2  23.45        S   Third   \n",
              "889         1       1    male  26.0      0      0  30.00        C   First   \n",
              "890         0       3    male  32.0      0      0   7.75        Q   Third   \n",
              "\n",
              "       who  adult_male deck  embark_town alive  alone  \n",
              "886    man        True  NaN  Southampton    no   True  \n",
              "887  woman       False    B  Southampton   yes   True  \n",
              "888  woman       False  NaN  Southampton    no  False  \n",
              "889    man        True    C    Cherbourg   yes   True  \n",
              "890    man        True  NaN   Queenstown    no   True  "
            ],
            "text/html": [
              "\n",
              "  <div id=\"df-086219b7-24e2-43bd-87b9-9b0fe1d48a64\" class=\"colab-df-container\">\n",
              "    <div>\n",
              "<style scoped>\n",
              "    .dataframe tbody tr th:only-of-type {\n",
              "        vertical-align: middle;\n",
              "    }\n",
              "\n",
              "    .dataframe tbody tr th {\n",
              "        vertical-align: top;\n",
              "    }\n",
              "\n",
              "    .dataframe thead th {\n",
              "        text-align: right;\n",
              "    }\n",
              "</style>\n",
              "<table border=\"1\" class=\"dataframe\">\n",
              "  <thead>\n",
              "    <tr style=\"text-align: right;\">\n",
              "      <th></th>\n",
              "      <th>survived</th>\n",
              "      <th>pclass</th>\n",
              "      <th>sex</th>\n",
              "      <th>age</th>\n",
              "      <th>sibsp</th>\n",
              "      <th>parch</th>\n",
              "      <th>fare</th>\n",
              "      <th>embarked</th>\n",
              "      <th>class</th>\n",
              "      <th>who</th>\n",
              "      <th>adult_male</th>\n",
              "      <th>deck</th>\n",
              "      <th>embark_town</th>\n",
              "      <th>alive</th>\n",
              "      <th>alone</th>\n",
              "    </tr>\n",
              "  </thead>\n",
              "  <tbody>\n",
              "    <tr>\n",
              "      <th>886</th>\n",
              "      <td>0</td>\n",
              "      <td>2</td>\n",
              "      <td>male</td>\n",
              "      <td>27.0</td>\n",
              "      <td>0</td>\n",
              "      <td>0</td>\n",
              "      <td>13.00</td>\n",
              "      <td>S</td>\n",
              "      <td>Second</td>\n",
              "      <td>man</td>\n",
              "      <td>True</td>\n",
              "      <td>NaN</td>\n",
              "      <td>Southampton</td>\n",
              "      <td>no</td>\n",
              "      <td>True</td>\n",
              "    </tr>\n",
              "    <tr>\n",
              "      <th>887</th>\n",
              "      <td>1</td>\n",
              "      <td>1</td>\n",
              "      <td>female</td>\n",
              "      <td>19.0</td>\n",
              "      <td>0</td>\n",
              "      <td>0</td>\n",
              "      <td>30.00</td>\n",
              "      <td>S</td>\n",
              "      <td>First</td>\n",
              "      <td>woman</td>\n",
              "      <td>False</td>\n",
              "      <td>B</td>\n",
              "      <td>Southampton</td>\n",
              "      <td>yes</td>\n",
              "      <td>True</td>\n",
              "    </tr>\n",
              "    <tr>\n",
              "      <th>888</th>\n",
              "      <td>0</td>\n",
              "      <td>3</td>\n",
              "      <td>female</td>\n",
              "      <td>NaN</td>\n",
              "      <td>1</td>\n",
              "      <td>2</td>\n",
              "      <td>23.45</td>\n",
              "      <td>S</td>\n",
              "      <td>Third</td>\n",
              "      <td>woman</td>\n",
              "      <td>False</td>\n",
              "      <td>NaN</td>\n",
              "      <td>Southampton</td>\n",
              "      <td>no</td>\n",
              "      <td>False</td>\n",
              "    </tr>\n",
              "    <tr>\n",
              "      <th>889</th>\n",
              "      <td>1</td>\n",
              "      <td>1</td>\n",
              "      <td>male</td>\n",
              "      <td>26.0</td>\n",
              "      <td>0</td>\n",
              "      <td>0</td>\n",
              "      <td>30.00</td>\n",
              "      <td>C</td>\n",
              "      <td>First</td>\n",
              "      <td>man</td>\n",
              "      <td>True</td>\n",
              "      <td>C</td>\n",
              "      <td>Cherbourg</td>\n",
              "      <td>yes</td>\n",
              "      <td>True</td>\n",
              "    </tr>\n",
              "    <tr>\n",
              "      <th>890</th>\n",
              "      <td>0</td>\n",
              "      <td>3</td>\n",
              "      <td>male</td>\n",
              "      <td>32.0</td>\n",
              "      <td>0</td>\n",
              "      <td>0</td>\n",
              "      <td>7.75</td>\n",
              "      <td>Q</td>\n",
              "      <td>Third</td>\n",
              "      <td>man</td>\n",
              "      <td>True</td>\n",
              "      <td>NaN</td>\n",
              "      <td>Queenstown</td>\n",
              "      <td>no</td>\n",
              "      <td>True</td>\n",
              "    </tr>\n",
              "  </tbody>\n",
              "</table>\n",
              "</div>\n",
              "    <div class=\"colab-df-buttons\">\n",
              "\n",
              "  <div class=\"colab-df-container\">\n",
              "    <button class=\"colab-df-convert\" onclick=\"convertToInteractive('df-086219b7-24e2-43bd-87b9-9b0fe1d48a64')\"\n",
              "            title=\"Convert this dataframe to an interactive table.\"\n",
              "            style=\"display:none;\">\n",
              "\n",
              "  <svg xmlns=\"http://www.w3.org/2000/svg\" height=\"24px\" viewBox=\"0 -960 960 960\">\n",
              "    <path d=\"M120-120v-720h720v720H120Zm60-500h600v-160H180v160Zm220 220h160v-160H400v160Zm0 220h160v-160H400v160ZM180-400h160v-160H180v160Zm440 0h160v-160H620v160ZM180-180h160v-160H180v160Zm440 0h160v-160H620v160Z\"/>\n",
              "  </svg>\n",
              "    </button>\n",
              "\n",
              "  <style>\n",
              "    .colab-df-container {\n",
              "      display:flex;\n",
              "      gap: 12px;\n",
              "    }\n",
              "\n",
              "    .colab-df-convert {\n",
              "      background-color: #E8F0FE;\n",
              "      border: none;\n",
              "      border-radius: 50%;\n",
              "      cursor: pointer;\n",
              "      display: none;\n",
              "      fill: #1967D2;\n",
              "      height: 32px;\n",
              "      padding: 0 0 0 0;\n",
              "      width: 32px;\n",
              "    }\n",
              "\n",
              "    .colab-df-convert:hover {\n",
              "      background-color: #E2EBFA;\n",
              "      box-shadow: 0px 1px 2px rgba(60, 64, 67, 0.3), 0px 1px 3px 1px rgba(60, 64, 67, 0.15);\n",
              "      fill: #174EA6;\n",
              "    }\n",
              "\n",
              "    .colab-df-buttons div {\n",
              "      margin-bottom: 4px;\n",
              "    }\n",
              "\n",
              "    [theme=dark] .colab-df-convert {\n",
              "      background-color: #3B4455;\n",
              "      fill: #D2E3FC;\n",
              "    }\n",
              "\n",
              "    [theme=dark] .colab-df-convert:hover {\n",
              "      background-color: #434B5C;\n",
              "      box-shadow: 0px 1px 3px 1px rgba(0, 0, 0, 0.15);\n",
              "      filter: drop-shadow(0px 1px 2px rgba(0, 0, 0, 0.3));\n",
              "      fill: #FFFFFF;\n",
              "    }\n",
              "  </style>\n",
              "\n",
              "    <script>\n",
              "      const buttonEl =\n",
              "        document.querySelector('#df-086219b7-24e2-43bd-87b9-9b0fe1d48a64 button.colab-df-convert');\n",
              "      buttonEl.style.display =\n",
              "        google.colab.kernel.accessAllowed ? 'block' : 'none';\n",
              "\n",
              "      async function convertToInteractive(key) {\n",
              "        const element = document.querySelector('#df-086219b7-24e2-43bd-87b9-9b0fe1d48a64');\n",
              "        const dataTable =\n",
              "          await google.colab.kernel.invokeFunction('convertToInteractive',\n",
              "                                                    [key], {});\n",
              "        if (!dataTable) return;\n",
              "\n",
              "        const docLinkHtml = 'Like what you see? Visit the ' +\n",
              "          '<a target=\"_blank\" href=https://colab.research.google.com/notebooks/data_table.ipynb>data table notebook</a>'\n",
              "          + ' to learn more about interactive tables.';\n",
              "        element.innerHTML = '';\n",
              "        dataTable['output_type'] = 'display_data';\n",
              "        await google.colab.output.renderOutput(dataTable, element);\n",
              "        const docLink = document.createElement('div');\n",
              "        docLink.innerHTML = docLinkHtml;\n",
              "        element.appendChild(docLink);\n",
              "      }\n",
              "    </script>\n",
              "  </div>\n",
              "\n",
              "\n",
              "<div id=\"df-76cdd11c-9d86-4c64-ab0a-1a5bbe2f593d\">\n",
              "  <button class=\"colab-df-quickchart\" onclick=\"quickchart('df-76cdd11c-9d86-4c64-ab0a-1a5bbe2f593d')\"\n",
              "            title=\"Suggest charts\"\n",
              "            style=\"display:none;\">\n",
              "\n",
              "<svg xmlns=\"http://www.w3.org/2000/svg\" height=\"24px\"viewBox=\"0 0 24 24\"\n",
              "     width=\"24px\">\n",
              "    <g>\n",
              "        <path d=\"M19 3H5c-1.1 0-2 .9-2 2v14c0 1.1.9 2 2 2h14c1.1 0 2-.9 2-2V5c0-1.1-.9-2-2-2zM9 17H7v-7h2v7zm4 0h-2V7h2v10zm4 0h-2v-4h2v4z\"/>\n",
              "    </g>\n",
              "</svg>\n",
              "  </button>\n",
              "\n",
              "<style>\n",
              "  .colab-df-quickchart {\n",
              "      --bg-color: #E8F0FE;\n",
              "      --fill-color: #1967D2;\n",
              "      --hover-bg-color: #E2EBFA;\n",
              "      --hover-fill-color: #174EA6;\n",
              "      --disabled-fill-color: #AAA;\n",
              "      --disabled-bg-color: #DDD;\n",
              "  }\n",
              "\n",
              "  [theme=dark] .colab-df-quickchart {\n",
              "      --bg-color: #3B4455;\n",
              "      --fill-color: #D2E3FC;\n",
              "      --hover-bg-color: #434B5C;\n",
              "      --hover-fill-color: #FFFFFF;\n",
              "      --disabled-bg-color: #3B4455;\n",
              "      --disabled-fill-color: #666;\n",
              "  }\n",
              "\n",
              "  .colab-df-quickchart {\n",
              "    background-color: var(--bg-color);\n",
              "    border: none;\n",
              "    border-radius: 50%;\n",
              "    cursor: pointer;\n",
              "    display: none;\n",
              "    fill: var(--fill-color);\n",
              "    height: 32px;\n",
              "    padding: 0;\n",
              "    width: 32px;\n",
              "  }\n",
              "\n",
              "  .colab-df-quickchart:hover {\n",
              "    background-color: var(--hover-bg-color);\n",
              "    box-shadow: 0 1px 2px rgba(60, 64, 67, 0.3), 0 1px 3px 1px rgba(60, 64, 67, 0.15);\n",
              "    fill: var(--button-hover-fill-color);\n",
              "  }\n",
              "\n",
              "  .colab-df-quickchart-complete:disabled,\n",
              "  .colab-df-quickchart-complete:disabled:hover {\n",
              "    background-color: var(--disabled-bg-color);\n",
              "    fill: var(--disabled-fill-color);\n",
              "    box-shadow: none;\n",
              "  }\n",
              "\n",
              "  .colab-df-spinner {\n",
              "    border: 2px solid var(--fill-color);\n",
              "    border-color: transparent;\n",
              "    border-bottom-color: var(--fill-color);\n",
              "    animation:\n",
              "      spin 1s steps(1) infinite;\n",
              "  }\n",
              "\n",
              "  @keyframes spin {\n",
              "    0% {\n",
              "      border-color: transparent;\n",
              "      border-bottom-color: var(--fill-color);\n",
              "      border-left-color: var(--fill-color);\n",
              "    }\n",
              "    20% {\n",
              "      border-color: transparent;\n",
              "      border-left-color: var(--fill-color);\n",
              "      border-top-color: var(--fill-color);\n",
              "    }\n",
              "    30% {\n",
              "      border-color: transparent;\n",
              "      border-left-color: var(--fill-color);\n",
              "      border-top-color: var(--fill-color);\n",
              "      border-right-color: var(--fill-color);\n",
              "    }\n",
              "    40% {\n",
              "      border-color: transparent;\n",
              "      border-right-color: var(--fill-color);\n",
              "      border-top-color: var(--fill-color);\n",
              "    }\n",
              "    60% {\n",
              "      border-color: transparent;\n",
              "      border-right-color: var(--fill-color);\n",
              "    }\n",
              "    80% {\n",
              "      border-color: transparent;\n",
              "      border-right-color: var(--fill-color);\n",
              "      border-bottom-color: var(--fill-color);\n",
              "    }\n",
              "    90% {\n",
              "      border-color: transparent;\n",
              "      border-bottom-color: var(--fill-color);\n",
              "    }\n",
              "  }\n",
              "</style>\n",
              "\n",
              "  <script>\n",
              "    async function quickchart(key) {\n",
              "      const quickchartButtonEl =\n",
              "        document.querySelector('#' + key + ' button');\n",
              "      quickchartButtonEl.disabled = true;  // To prevent multiple clicks.\n",
              "      quickchartButtonEl.classList.add('colab-df-spinner');\n",
              "      try {\n",
              "        const charts = await google.colab.kernel.invokeFunction(\n",
              "            'suggestCharts', [key], {});\n",
              "      } catch (error) {\n",
              "        console.error('Error during call to suggestCharts:', error);\n",
              "      }\n",
              "      quickchartButtonEl.classList.remove('colab-df-spinner');\n",
              "      quickchartButtonEl.classList.add('colab-df-quickchart-complete');\n",
              "    }\n",
              "    (() => {\n",
              "      let quickchartButtonEl =\n",
              "        document.querySelector('#df-76cdd11c-9d86-4c64-ab0a-1a5bbe2f593d button');\n",
              "      quickchartButtonEl.style.display =\n",
              "        google.colab.kernel.accessAllowed ? 'block' : 'none';\n",
              "    })();\n",
              "  </script>\n",
              "</div>\n",
              "\n",
              "    </div>\n",
              "  </div>\n"
            ],
            "application/vnd.google.colaboratory.intrinsic+json": {
              "type": "dataframe",
              "summary": "{\n  \"name\": \"dataset\",\n  \"rows\": 5,\n  \"fields\": [\n    {\n      \"column\": \"survived\",\n      \"properties\": {\n        \"dtype\": \"number\",\n        \"std\": 0,\n        \"min\": 0,\n        \"max\": 1,\n        \"num_unique_values\": 2,\n        \"samples\": [\n          1,\n          0\n        ],\n        \"semantic_type\": \"\",\n        \"description\": \"\"\n      }\n    },\n    {\n      \"column\": \"pclass\",\n      \"properties\": {\n        \"dtype\": \"number\",\n        \"std\": 1,\n        \"min\": 1,\n        \"max\": 3,\n        \"num_unique_values\": 3,\n        \"samples\": [\n          2,\n          1\n        ],\n        \"semantic_type\": \"\",\n        \"description\": \"\"\n      }\n    },\n    {\n      \"column\": \"sex\",\n      \"properties\": {\n        \"dtype\": \"category\",\n        \"num_unique_values\": 2,\n        \"samples\": [\n          \"female\",\n          \"male\"\n        ],\n        \"semantic_type\": \"\",\n        \"description\": \"\"\n      }\n    },\n    {\n      \"column\": \"age\",\n      \"properties\": {\n        \"dtype\": \"number\",\n        \"std\": 5.354126134736337,\n        \"min\": 19.0,\n        \"max\": 32.0,\n        \"num_unique_values\": 4,\n        \"samples\": [\n          19.0,\n          32.0\n        ],\n        \"semantic_type\": \"\",\n        \"description\": \"\"\n      }\n    },\n    {\n      \"column\": \"sibsp\",\n      \"properties\": {\n        \"dtype\": \"number\",\n        \"std\": 0,\n        \"min\": 0,\n        \"max\": 1,\n        \"num_unique_values\": 2,\n        \"samples\": [\n          1,\n          0\n        ],\n        \"semantic_type\": \"\",\n        \"description\": \"\"\n      }\n    },\n    {\n      \"column\": \"parch\",\n      \"properties\": {\n        \"dtype\": \"number\",\n        \"std\": 0,\n        \"min\": 0,\n        \"max\": 2,\n        \"num_unique_values\": 2,\n        \"samples\": [\n          2,\n          0\n        ],\n        \"semantic_type\": \"\",\n        \"description\": \"\"\n      }\n    },\n    {\n      \"column\": \"fare\",\n      \"properties\": {\n        \"dtype\": \"number\",\n        \"std\": 10.09253436952285,\n        \"min\": 7.75,\n        \"max\": 30.0,\n        \"num_unique_values\": 4,\n        \"samples\": [\n          30.0,\n          7.75\n        ],\n        \"semantic_type\": \"\",\n        \"description\": \"\"\n      }\n    },\n    {\n      \"column\": \"embarked\",\n      \"properties\": {\n        \"dtype\": \"string\",\n        \"num_unique_values\": 3,\n        \"samples\": [\n          \"S\",\n          \"C\"\n        ],\n        \"semantic_type\": \"\",\n        \"description\": \"\"\n      }\n    },\n    {\n      \"column\": \"class\",\n      \"properties\": {\n        \"dtype\": \"category\",\n        \"num_unique_values\": 3,\n        \"samples\": [\n          \"Second\",\n          \"First\"\n        ],\n        \"semantic_type\": \"\",\n        \"description\": \"\"\n      }\n    },\n    {\n      \"column\": \"who\",\n      \"properties\": {\n        \"dtype\": \"category\",\n        \"num_unique_values\": 2,\n        \"samples\": [\n          \"woman\",\n          \"man\"\n        ],\n        \"semantic_type\": \"\",\n        \"description\": \"\"\n      }\n    },\n    {\n      \"column\": \"adult_male\",\n      \"properties\": {\n        \"dtype\": \"boolean\",\n        \"num_unique_values\": 2,\n        \"samples\": [\n          false,\n          true\n        ],\n        \"semantic_type\": \"\",\n        \"description\": \"\"\n      }\n    },\n    {\n      \"column\": \"deck\",\n      \"properties\": {\n        \"dtype\": \"category\",\n        \"num_unique_values\": 2,\n        \"samples\": [\n          \"C\",\n          \"B\"\n        ],\n        \"semantic_type\": \"\",\n        \"description\": \"\"\n      }\n    },\n    {\n      \"column\": \"embark_town\",\n      \"properties\": {\n        \"dtype\": \"string\",\n        \"num_unique_values\": 3,\n        \"samples\": [\n          \"Southampton\",\n          \"Cherbourg\"\n        ],\n        \"semantic_type\": \"\",\n        \"description\": \"\"\n      }\n    },\n    {\n      \"column\": \"alive\",\n      \"properties\": {\n        \"dtype\": \"category\",\n        \"num_unique_values\": 2,\n        \"samples\": [\n          \"yes\",\n          \"no\"\n        ],\n        \"semantic_type\": \"\",\n        \"description\": \"\"\n      }\n    },\n    {\n      \"column\": \"alone\",\n      \"properties\": {\n        \"dtype\": \"boolean\",\n        \"num_unique_values\": 2,\n        \"samples\": [\n          false,\n          true\n        ],\n        \"semantic_type\": \"\",\n        \"description\": \"\"\n      }\n    }\n  ]\n}"
            }
          },
          "metadata": {},
          "execution_count": 98
        }
      ]
    },
    {
      "cell_type": "code",
      "source": [
        "# Display the first few rows:\n",
        "print(df.head())\n",
        "\n",
        "# Display the last few rows:\n",
        "print(df.tail())\n",
        "\n",
        "# Display the random 5 rows:\n",
        "print(df.sample(5))\n",
        "\n",
        "# Get a concise summary of the DataFrame (data types, non-null counts):\n",
        "print(df.info())\n",
        "\n",
        "# Generate descriptive statistics for numerical columns:\n",
        "print(df.describe())\n"
      ],
      "metadata": {
        "id": "I4dVJLYH3zrj",
        "colab": {
          "base_uri": "https://localhost:8080/"
        },
        "outputId": "9ca71243-2722-4c6e-fa80-1ae354229106"
      },
      "execution_count": null,
      "outputs": [
        {
          "output_type": "stream",
          "name": "stdout",
          "text": [
            "   PassengerId  Survived  Pclass  \\\n",
            "0            1         0       3   \n",
            "1            2         1       1   \n",
            "2            3         1       3   \n",
            "3            4         1       1   \n",
            "4            5         0       3   \n",
            "\n",
            "                                                Name     Sex   Age  SibSp  \\\n",
            "0                            Braund, Mr. Owen Harris    male  22.0      1   \n",
            "1  Cumings, Mrs. John Bradley (Florence Briggs Th...  female  38.0      1   \n",
            "2                             Heikkinen, Miss. Laina  female  26.0      0   \n",
            "3       Futrelle, Mrs. Jacques Heath (Lily May Peel)  female  35.0      1   \n",
            "4                           Allen, Mr. William Henry    male  35.0      0   \n",
            "\n",
            "   Parch            Ticket     Fare Cabin Embarked  \n",
            "0      0         A/5 21171   7.2500   NaN        S  \n",
            "1      0          PC 17599  71.2833   C85        C  \n",
            "2      0  STON/O2. 3101282   7.9250   NaN        S  \n",
            "3      0            113803  53.1000  C123        S  \n",
            "4      0            373450   8.0500   NaN        S  \n",
            "     PassengerId  Survived  Pclass                                      Name  \\\n",
            "886          887         0       2                     Montvila, Rev. Juozas   \n",
            "887          888         1       1              Graham, Miss. Margaret Edith   \n",
            "888          889         0       3  Johnston, Miss. Catherine Helen \"Carrie\"   \n",
            "889          890         1       1                     Behr, Mr. Karl Howell   \n",
            "890          891         0       3                       Dooley, Mr. Patrick   \n",
            "\n",
            "        Sex   Age  SibSp  Parch      Ticket   Fare Cabin Embarked  \n",
            "886    male  27.0      0      0      211536  13.00   NaN        S  \n",
            "887  female  19.0      0      0      112053  30.00   B42        S  \n",
            "888  female   NaN      1      2  W./C. 6607  23.45   NaN        S  \n",
            "889    male  26.0      0      0      111369  30.00  C148        C  \n",
            "890    male  32.0      0      0      370376   7.75   NaN        Q  \n",
            "     PassengerId  Survived  Pclass  \\\n",
            "786          787         1       3   \n",
            "821          822         1       3   \n",
            "1              2         1       1   \n",
            "137          138         0       1   \n",
            "868          869         0       3   \n",
            "\n",
            "                                                  Name     Sex   Age  SibSp  \\\n",
            "786                          Sjoblom, Miss. Anna Sofia  female  18.0      0   \n",
            "821                                  Lulic, Mr. Nikola    male  27.0      0   \n",
            "1    Cumings, Mrs. John Bradley (Florence Briggs Th...  female  38.0      1   \n",
            "137                        Futrelle, Mr. Jacques Heath    male  37.0      1   \n",
            "868                        van Melkebeke, Mr. Philemon    male   NaN      0   \n",
            "\n",
            "     Parch    Ticket     Fare Cabin Embarked  \n",
            "786      0   3101265   7.4958   NaN        S  \n",
            "821      0    315098   8.6625   NaN        S  \n",
            "1        0  PC 17599  71.2833   C85        C  \n",
            "137      0    113803  53.1000  C123        S  \n",
            "868      0    345777   9.5000   NaN        S  \n",
            "<class 'pandas.core.frame.DataFrame'>\n",
            "RangeIndex: 891 entries, 0 to 890\n",
            "Data columns (total 12 columns):\n",
            " #   Column       Non-Null Count  Dtype  \n",
            "---  ------       --------------  -----  \n",
            " 0   PassengerId  891 non-null    int64  \n",
            " 1   Survived     891 non-null    int64  \n",
            " 2   Pclass       891 non-null    int64  \n",
            " 3   Name         891 non-null    object \n",
            " 4   Sex          891 non-null    object \n",
            " 5   Age          714 non-null    float64\n",
            " 6   SibSp        891 non-null    int64  \n",
            " 7   Parch        891 non-null    int64  \n",
            " 8   Ticket       891 non-null    object \n",
            " 9   Fare         891 non-null    float64\n",
            " 10  Cabin        204 non-null    object \n",
            " 11  Embarked     889 non-null    object \n",
            "dtypes: float64(2), int64(5), object(5)\n",
            "memory usage: 83.7+ KB\n",
            "None\n",
            "       PassengerId    Survived      Pclass         Age       SibSp  \\\n",
            "count   891.000000  891.000000  891.000000  714.000000  891.000000   \n",
            "mean    446.000000    0.383838    2.308642   29.699118    0.523008   \n",
            "std     257.353842    0.486592    0.836071   14.526497    1.102743   \n",
            "min       1.000000    0.000000    1.000000    0.420000    0.000000   \n",
            "25%     223.500000    0.000000    2.000000   20.125000    0.000000   \n",
            "50%     446.000000    0.000000    3.000000   28.000000    0.000000   \n",
            "75%     668.500000    1.000000    3.000000   38.000000    1.000000   \n",
            "max     891.000000    1.000000    3.000000   80.000000    8.000000   \n",
            "\n",
            "            Parch        Fare  \n",
            "count  891.000000  891.000000  \n",
            "mean     0.381594   32.204208  \n",
            "std      0.806057   49.693429  \n",
            "min      0.000000    0.000000  \n",
            "25%      0.000000    7.910400  \n",
            "50%      0.000000   14.454200  \n",
            "75%      0.000000   31.000000  \n",
            "max      6.000000  512.329200  \n"
          ]
        }
      ]
    },
    {
      "cell_type": "markdown",
      "source": [
        "### 4.2 Selecting and Filtering Data\n",
        "\n",
        "* Column Selection: Returns a Series that can be further analyzed.\n",
        "* .loc vs. .iloc:\n",
        "** .loc: Access by label.\n",
        "** .iloc: Access by integer position.\n",
        "* Conditional Filtering: Extracts rows that meet specific criteria."
      ],
      "metadata": {
        "id": "X6V6RA3h4Fhr"
      }
    },
    {
      "cell_type": "markdown",
      "source": [
        "### Example Loc vs iloc"
      ],
      "metadata": {
        "id": "8dnndzRwbw06"
      }
    },
    {
      "cell_type": "code",
      "source": [
        "df['Name']"
      ],
      "metadata": {
        "colab": {
          "base_uri": "https://localhost:8080/",
          "height": 209
        },
        "id": "UXL2FWdHci7f",
        "outputId": "50416359-ca39-4ecb-c4a6-8a2c9895bc21"
      },
      "execution_count": null,
      "outputs": [
        {
          "output_type": "execute_result",
          "data": {
            "text/plain": [
              "0      Alice\n",
              "1        Bob\n",
              "2    Charlie\n",
              "3      David\n",
              "Name: Name, dtype: object"
            ],
            "text/html": [
              "<div>\n",
              "<style scoped>\n",
              "    .dataframe tbody tr th:only-of-type {\n",
              "        vertical-align: middle;\n",
              "    }\n",
              "\n",
              "    .dataframe tbody tr th {\n",
              "        vertical-align: top;\n",
              "    }\n",
              "\n",
              "    .dataframe thead th {\n",
              "        text-align: right;\n",
              "    }\n",
              "</style>\n",
              "<table border=\"1\" class=\"dataframe\">\n",
              "  <thead>\n",
              "    <tr style=\"text-align: right;\">\n",
              "      <th></th>\n",
              "      <th>Name</th>\n",
              "    </tr>\n",
              "  </thead>\n",
              "  <tbody>\n",
              "    <tr>\n",
              "      <th>0</th>\n",
              "      <td>Alice</td>\n",
              "    </tr>\n",
              "    <tr>\n",
              "      <th>1</th>\n",
              "      <td>Bob</td>\n",
              "    </tr>\n",
              "    <tr>\n",
              "      <th>2</th>\n",
              "      <td>Charlie</td>\n",
              "    </tr>\n",
              "    <tr>\n",
              "      <th>3</th>\n",
              "      <td>David</td>\n",
              "    </tr>\n",
              "  </tbody>\n",
              "</table>\n",
              "</div><br><label><b>dtype:</b> object</label>"
            ]
          },
          "metadata": {},
          "execution_count": 25
        }
      ]
    },
    {
      "cell_type": "code",
      "source": [
        "import pandas as pd\n",
        "\n",
        "# Step 1: Create a sample DataFrame\n",
        "data = {\n",
        "    'Name': ['Alice', 'Bob', 'Charlie'],\n",
        "    'Age': [25, 30, 35],\n",
        "    'City': ['New York', 'Los Angeles', 'Chicago']\n",
        "}\n",
        "\n",
        "df = pd.DataFrame(data)\n",
        "\n",
        "# Display the DataFrame\n",
        "print(\"DataFrame:\")\n",
        "print(df)\n",
        "\n",
        "# Step 2: Using .iloc (integer-based indexing)\n",
        "print(\"\\nUsing .iloc to select first row, second column (Age of Alice):\")\n",
        "print(df.iloc[0:2, 0:2])\n",
        "\n",
        "# Step 3: Using .loc (label-based indexing)\n",
        "print(\"\\nUsing .loc to select first row, 'Age' column (Age of Alice):\")\n",
        "print(df.loc[0:2, 'Name':'Age'])   # difference question\n"
      ],
      "metadata": {
        "colab": {
          "base_uri": "https://localhost:8080/"
        },
        "id": "kDSLFxFq93eK",
        "outputId": "3eed4c3c-413b-4f03-852e-f200e4a647b9"
      },
      "execution_count": null,
      "outputs": [
        {
          "output_type": "stream",
          "name": "stdout",
          "text": [
            "DataFrame:\n",
            "      Name  Age         City\n",
            "0    Alice   25     New York\n",
            "1      Bob   30  Los Angeles\n",
            "2  Charlie   35      Chicago\n",
            "\n",
            "Using .iloc to select first row, second column (Age of Alice):\n",
            "    Name  Age\n",
            "0  Alice   25\n",
            "1    Bob   30\n",
            "\n",
            "Using .loc to select first row, 'Age' column (Age of Alice):\n",
            "      Name  Age\n",
            "0    Alice   25\n",
            "1      Bob   30\n",
            "2  Charlie   35\n"
          ]
        }
      ]
    },
    {
      "cell_type": "markdown",
      "source": [
        "### When to Use Which?"
      ],
      "metadata": {
        "id": "lxYEzoSxgIjK"
      }
    },
    {
      "cell_type": "markdown",
      "source": [
        "\n",
        "\\begin{array}{|l|l|l|}\n",
        "\\hline\n",
        "\\textbf{Feature}            & \\textbf{.iloc (Position-Based)}        & \\textbf{.loc (Label-Based)}         \\\\ \\hline\n",
        "\\textbf{Access By}          & \\text{Integer position (0, 1, 2, …)}   & \\text{Row and column labels (names)} \\\\ \\hline\n",
        "\\textbf{Speed}              & \\text{Faster (for large datasets)}     & \\text{Slightly slower (label lookup)} \\\\ \\hline\n",
        "\\textbf{Best For}           & \\text{Sequential, numeric data}        & \\text{Labeled data with conditions}   \\\\ \\hline\n",
        "\\textbf{Condition Filtering} & \\text{❌ Not supported}                 & \\text{✅ Fully supported}              \\\\ \\hline\n",
        "\\textbf{Example}            & \\texttt{df.iloc[2, 1]}                 & \\texttt{df.loc[df['Age'] > 30]}       \\\\ \\hline\n",
        "\\end{array}\n",
        "\n"
      ],
      "metadata": {
        "id": "iPiWvt2HfPIt"
      }
    },
    {
      "cell_type": "markdown",
      "source": [
        "### Example for Data Filtering"
      ],
      "metadata": {
        "id": "9-KqULxJb52k"
      }
    },
    {
      "cell_type": "code",
      "source": [
        "import pandas as pd\n",
        "\n",
        "# Sample DataFrame\n",
        "data = {\n",
        "    'Name': ['Alice', 'Bob', 'Charlie', 'David'],\n",
        "    'Age': [25, 30, 35, 40],\n",
        "    'City': ['New York', 'Los Angeles', 'Chicago', 'Houston'],\n",
        "    'Salary': [50000, 60000, 70000, 80000]\n",
        "}\n",
        "df = pd.DataFrame(data)\n",
        "print(\"Original DataFrame:\\n\", df)\n",
        "\n",
        "# 1. Filter Rows Based on a Single Condition\n",
        "print(\"\\nFilter rows where Age > 30:\\n\", df[df['Age'] > 30])\n",
        "\n"
      ],
      "metadata": {
        "id": "oWQkC2B1NIbI",
        "colab": {
          "base_uri": "https://localhost:8080/"
        },
        "outputId": "0cd2223b-23a5-49f1-b65f-d67318fdcfb0"
      },
      "execution_count": null,
      "outputs": [
        {
          "output_type": "stream",
          "name": "stdout",
          "text": [
            "Original DataFrame:\n",
            "       Name  Age         City  Salary\n",
            "0    Alice   25     New York   50000\n",
            "1      Bob   30  Los Angeles   60000\n",
            "2  Charlie   35      Chicago   70000\n",
            "3    David   40      Houston   80000\n",
            "\n",
            "Filter rows where Age > 30:\n",
            "       Name  Age     City  Salary\n",
            "2  Charlie   35  Chicago   70000\n",
            "3    David   40  Houston   80000\n"
          ]
        }
      ]
    },
    {
      "cell_type": "code",
      "source": [
        "# 2. Filter Rows with Multiple Conditions (AND condition)\n",
        "print(\"\\nFilter rows where Age > 30 and Salary > 60000:\\n\", df[(df['Age'] > 30) & (df['Salary'] > 60000)])\n"
      ],
      "metadata": {
        "colab": {
          "base_uri": "https://localhost:8080/"
        },
        "id": "GSPrtKusdZGh",
        "outputId": "e2ffea00-28df-4593-deac-d39aa7e364da"
      },
      "execution_count": null,
      "outputs": [
        {
          "output_type": "stream",
          "name": "stdout",
          "text": [
            "\n",
            "Filter rows where Age > 30 and Salary > 60000:\n",
            "       Name  Age     City  Salary\n",
            "2  Charlie   35  Chicago   70000\n",
            "3    David   40  Houston   80000\n"
          ]
        }
      ]
    },
    {
      "cell_type": "code",
      "source": [
        "# 3. Filter Rows with Multiple Conditions (OR condition)\n",
        "print(\"\\nFilter rows where Age > 30 OR Salary > 60000:\\n\", df[(df['Age'] > 30) | (df['Salary'] > 60000)])"
      ],
      "metadata": {
        "colab": {
          "base_uri": "https://localhost:8080/"
        },
        "id": "uQi6kH8Mdd2F",
        "outputId": "409c6fdd-6602-4657-dc06-ca33020d2301"
      },
      "execution_count": null,
      "outputs": [
        {
          "output_type": "stream",
          "name": "stdout",
          "text": [
            "\n",
            "Filter rows where Age > 30 OR Salary > 60000:\n",
            "       Name  Age     City  Salary\n",
            "2  Charlie   35  Chicago   70000\n",
            "3    David   40  Houston   80000\n"
          ]
        }
      ]
    },
    {
      "cell_type": "code",
      "source": [
        "# 4. Filter Specific Columns After Applying Conditions\n",
        "print(\"\\nFilter rows where Age > 30 and show only 'Name' and 'City':\\n\", df.loc[df['Age'] > 30, ['Name', 'City']])"
      ],
      "metadata": {
        "colab": {
          "base_uri": "https://localhost:8080/"
        },
        "id": "OLBVnMlgdiuu",
        "outputId": "e92dfad6-39b6-48a1-9582-c0b4a5aae533"
      },
      "execution_count": null,
      "outputs": [
        {
          "output_type": "stream",
          "name": "stdout",
          "text": [
            "\n",
            "Filter rows where Age > 30 and show only 'Name' and 'City':\n",
            "       Name     City\n",
            "2  Charlie  Chicago\n",
            "3    David  Houston\n"
          ]
        }
      ]
    },
    {
      "cell_type": "code",
      "source": [
        "# 5. Filter Using 'isin()' Method\n",
        "print(\"\\nFilter rows where City is either 'Chicago' or 'Houston':\\n\", df[df['City'].isin([Ch'icago', 'Houston'])])"
      ],
      "metadata": {
        "colab": {
          "base_uri": "https://localhost:8080/"
        },
        "id": "fhQaw0qTdmlV",
        "outputId": "f9c5b479-14ab-4377-f6e2-71421cce2eaa"
      },
      "execution_count": null,
      "outputs": [
        {
          "output_type": "stream",
          "name": "stdout",
          "text": [
            "\n",
            "Filter rows where City is either 'Chicago' or 'Houston':\n",
            "       Name  Age     City  Salary\n",
            "2  Charlie   35  Chicago   70000\n",
            "3    David   40  Houston   80000\n"
          ]
        }
      ]
    },
    {
      "cell_type": "code",
      "source": [
        "# 6. Filter Using String Matching with 'str.contains()'\n",
        "print(\"\\nFilter rows where City contains 'New':\\n\", df[df['City'].str.contains('New')])"
      ],
      "metadata": {
        "colab": {
          "base_uri": "https://localhost:8080/"
        },
        "id": "pzw88dHndpRR",
        "outputId": "696c18af-616b-4326-9d7c-ba03d7c9964a"
      },
      "execution_count": null,
      "outputs": [
        {
          "output_type": "stream",
          "name": "stdout",
          "text": [
            "\n",
            "Filter rows where City contains 'New':\n",
            "     Name  Age      City  Salary\n",
            "0  Alice   25  New York   50000\n"
          ]
        }
      ]
    },
    {
      "cell_type": "code",
      "source": [
        "# 8. Filter Using '.query()' Method\n",
        "print(\"\\nUsing query method to filter rows where Age > 30 and Salary > 60000:\\n\", df.query(\"Age > 30 and Salary > 60000\")) # question"
      ],
      "metadata": {
        "colab": {
          "base_uri": "https://localhost:8080/"
        },
        "id": "PCGAzyIxd17A",
        "outputId": "699fd374-21ea-4b20-94d9-73f9c093d77f"
      },
      "execution_count": null,
      "outputs": [
        {
          "output_type": "stream",
          "name": "stdout",
          "text": [
            "\n",
            "Using query method to filter rows where Age > 30 and Salary > 60000:\n",
            "       Name  Age     City  Salary\n",
            "2  Charlie   35  Chicago   70000\n",
            "3    David   40  Houston   80000\n"
          ]
        }
      ]
    },
    {
      "cell_type": "code",
      "source": [
        "# duplicated\n",
        "# dataset[dataset.duplicated()]\n",
        "import pandas as pd\n",
        "\n",
        "data = {'A': [1, 2, 2, 4, 4, 4], 'B': ['x', 'y', 'y', 'z', 'z', 'z']}\n",
        "df = pd.DataFrame(data)\n",
        "\n",
        "# print(df.duplicated(keep=False))  # Checks duplicates across all columns\n",
        "print(df.duplicated(subset=['A'], keep=False))  # Marks all duplicates in column 'A'"
      ],
      "metadata": {
        "colab": {
          "base_uri": "https://localhost:8080/"
        },
        "id": "GUkYg4FA0XAE",
        "outputId": "7f16ffdf-50e6-4de9-8b90-f0f05456c1bf"
      },
      "execution_count": null,
      "outputs": [
        {
          "output_type": "stream",
          "name": "stdout",
          "text": [
            "0    False\n",
            "1     True\n",
            "2     True\n",
            "3     True\n",
            "4     True\n",
            "5     True\n",
            "dtype: bool\n"
          ]
        }
      ]
    },
    {
      "cell_type": "markdown",
      "source": [
        "## 5. Handling Missing Data"
      ],
      "metadata": {
        "id": "Qch22dl14N-f"
      }
    },
    {
      "cell_type": "markdown",
      "source": [
        "### 5.1 Detecting Missing Values\n",
        "* isnull(): Returns Boolean values indicating missing entries.\n",
        "* sum(): Aggregates the Boolean values to count missing values per column."
      ],
      "metadata": {
        "id": "uC-wsrZpNbgk"
      }
    },
    {
      "cell_type": "markdown",
      "source": [
        "### Example for Detecting Missing Values"
      ],
      "metadata": {
        "id": "Inkz-NVYgzjp"
      }
    },
    {
      "cell_type": "code",
      "source": [
        "import pandas as pd\n",
        "import numpy as np\n",
        "\n",
        "# Sample DataFrame with missing values\n",
        "df = pd.DataFrame({\n",
        "    'Name': ['Alice', 'Bob', np.nan, 'David'],\n",
        "    'Age': [25, np.nan, 30, 40],\n",
        "    'Salary': [50000, 60000, np.nan, 80000]\n",
        "})\n",
        "\n",
        "print(\"Original DataFrame:\")\n",
        "print(df)\n",
        "\n",
        "\n"
      ],
      "metadata": {
        "id": "zyJTJeKkNYrC",
        "colab": {
          "base_uri": "https://localhost:8080/"
        },
        "outputId": "2c5feb1a-d779-43c7-fac8-0c0319589380"
      },
      "execution_count": null,
      "outputs": [
        {
          "output_type": "stream",
          "name": "stdout",
          "text": [
            "Original DataFrame:\n",
            "    Name   Age   Salary\n",
            "0  Alice  25.0  50000.0\n",
            "1    Bob   NaN  60000.0\n",
            "2    NaN  30.0      NaN\n",
            "3  David  40.0  80000.0\n"
          ]
        }
      ]
    },
    {
      "cell_type": "code",
      "source": [
        "# 1. Checking if any missing values exist\n",
        "print(\"\\nAny Missing Data in DataFrame?\")\n",
        "print(df.isnull().values.any())"
      ],
      "metadata": {
        "id": "DVULx4kKSnIA",
        "colab": {
          "base_uri": "https://localhost:8080/"
        },
        "outputId": "acf15759-27e7-4de5-986a-ca9c91fd5b08"
      },
      "execution_count": null,
      "outputs": [
        {
          "output_type": "stream",
          "name": "stdout",
          "text": [
            "\n",
            "Any Missing Data in DataFrame?\n",
            "True\n"
          ]
        }
      ]
    },
    {
      "cell_type": "code",
      "source": [
        "# 2. Detecting missing values (returns a boolean DataFrame)\n",
        "print(\"\\nDetecting Missing Values:\")\n",
        "print(df.isnull())"
      ],
      "metadata": {
        "id": "PXZv67tESqIM",
        "colab": {
          "base_uri": "https://localhost:8080/"
        },
        "outputId": "a455563a-c2fe-4b97-c56a-c2e052b28737"
      },
      "execution_count": null,
      "outputs": [
        {
          "output_type": "stream",
          "name": "stdout",
          "text": [
            "\n",
            "Detecting Missing Values:\n",
            "    Name    Age  Salary\n",
            "0  False  False   False\n",
            "1  False   True   False\n",
            "2   True  False    True\n",
            "3  False  False   False\n"
          ]
        }
      ]
    },
    {
      "cell_type": "code",
      "source": [
        "# 3. Counting total missing values in each column\n",
        "print(\"\\nCount of Missing Values in Each Column:\")\n",
        "print(df.isnull().sum())"
      ],
      "metadata": {
        "colab": {
          "base_uri": "https://localhost:8080/"
        },
        "id": "pGg2D7Frg8Nm",
        "outputId": "c4e0dfdd-370b-460c-a152-512c786c815c"
      },
      "execution_count": null,
      "outputs": [
        {
          "output_type": "stream",
          "name": "stdout",
          "text": [
            "\n",
            "Count of Missing Values in Each Column:\n",
            "Name      1\n",
            "Age       1\n",
            "Salary    1\n",
            "dtype: int64\n"
          ]
        }
      ]
    },
    {
      "cell_type": "code",
      "source": [
        "# 4. Finding rows with missing data\n",
        "print(\"\\nRows with Missing Data:\")\n",
        "print(df.isnull().any(axis=1))\n",
        "# Column vise\n",
        "print(df.isnull().any(axis=0))\n",
        "\n",
        "# Finding columns with missing data\n",
        "print(\"\\nColumns with Missing Data:\")\n",
        "print(df.columns[df.isnull().any()].tolist())\n",
        "list(df.isnull().any())"
      ],
      "metadata": {
        "colab": {
          "base_uri": "https://localhost:8080/"
        },
        "id": "IpwXoiaFg_3S",
        "outputId": "26a4cfd0-2280-4aa9-8f4f-6434b3e3841c"
      },
      "execution_count": null,
      "outputs": [
        {
          "output_type": "stream",
          "name": "stdout",
          "text": [
            "\n",
            "Rows with Missing Data:\n",
            "0    False\n",
            "1     True\n",
            "2     True\n",
            "3    False\n",
            "dtype: bool\n",
            "Name      True\n",
            "Age       True\n",
            "Salary    True\n",
            "dtype: bool\n",
            "\n",
            "Columns with Missing Data:\n",
            "['Name', 'Age', 'Salary']\n"
          ]
        },
        {
          "output_type": "execute_result",
          "data": {
            "text/plain": [
              "[True, True, True]"
            ]
          },
          "metadata": {},
          "execution_count": 125
        }
      ]
    },
    {
      "cell_type": "markdown",
      "source": [
        "### 5.2 Dealing with Missing Values"
      ],
      "metadata": {
        "id": "fkkZsELM4fq9"
      }
    },
    {
      "cell_type": "markdown",
      "source": [
        "* dropna(): Useful when you can afford to remove rows with missing data.\n",
        "* fillna(): Replaces missing values to preserve dataset structure."
      ],
      "metadata": {
        "id": "Am2X2wHTOhN5"
      }
    },
    {
      "cell_type": "code",
      "source": [
        "import pandas as pd\n",
        "import numpy as np\n",
        "\n",
        "# Sample DataFrame with missing values\n",
        "df = pd.DataFrame({\n",
        "    'Name': ['Alice', 'Bob', np.nan, 'David'],\n",
        "    'Age': [25, np.nan, 30, 40],\n",
        "    'Salary': [50000, 60000, np.nan, 80000]\n",
        "})\n",
        "\n",
        "print(\"Original DataFrame:\")\n",
        "print(df)\n",
        "\n",
        "# 1. Dropping rows with any missing values\n",
        "df_drop_any = df.dropna()\n",
        "print(\"\\n1. After Dropping Rows with Any Missing Values:\")\n",
        "print(df_drop_any)\n",
        "\n"
      ],
      "metadata": {
        "id": "4J0nsSxH4jhq",
        "colab": {
          "base_uri": "https://localhost:8080/"
        },
        "outputId": "ec42594f-0843-4350-e5a3-ee993d462dd0"
      },
      "execution_count": null,
      "outputs": [
        {
          "output_type": "stream",
          "name": "stdout",
          "text": [
            "Original DataFrame:\n",
            "    Name   Age   Salary\n",
            "0  Alice  25.0  50000.0\n",
            "1    Bob   NaN  60000.0\n",
            "2    NaN  30.0      NaN\n",
            "3  David  40.0  80000.0\n",
            "\n",
            "1. After Dropping Rows with Any Missing Values:\n",
            "    Name   Age   Salary\n",
            "0  Alice  25.0  50000.0\n",
            "3  David  40.0  80000.0\n"
          ]
        }
      ]
    },
    {
      "cell_type": "code",
      "source": [
        "Parameters:\n",
        "axis=0 → Drops rows with NaN (default).\n",
        "axis=1 → Drops columns with NaN.\n",
        "how='any' → Removes rows/columns if any NaN exists (default).\n",
        "how='all' → Removes rows/columns only if all values are NaN.\n",
        "subset=['col1', 'col2'] → Drops rows where NaN appears in specific columns.\n",
        "inplace=True → Modifies the DataFrame directly instead of creating a new one."
      ],
      "metadata": {
        "id": "8PMMgjmPVvaj"
      },
      "execution_count": null,
      "outputs": []
    },
    {
      "cell_type": "code",
      "source": [
        "\n",
        "# 2. Dropping rows with all missing values\n",
        "# df_drop_all = df.dropna(how='all')\n",
        "# print(\"\\n2. After Dropping Rows with All Missing Values:\")\n",
        "# print(df_drop_all)\n",
        "# Sample DataFrame with missing values\n",
        "df = pd.DataFrame({\n",
        "    'Name': ['Alice', 'Bob', np.nan, 'David'],\n",
        "    'Age': [25, np.nan, 30, 40],\n",
        "    'Salary': [50000, 60000, np.nan, 80000]\n",
        "})\n",
        "\n",
        "print(\"Original DataFrame:\")\n",
        "print(df)\n",
        "df= df.dropna(axis=0, how='any', inplace=False)\n",
        "print(df)"
      ],
      "metadata": {
        "colab": {
          "base_uri": "https://localhost:8080/"
        },
        "id": "FPJPRnNFkigp",
        "outputId": "f5ffad15-7e18-40c9-dd9a-27e8a3977a41"
      },
      "execution_count": null,
      "outputs": [
        {
          "output_type": "stream",
          "name": "stdout",
          "text": [
            "Original DataFrame:\n",
            "    Name   Age   Salary\n",
            "0  Alice  25.0  50000.0\n",
            "1    Bob   NaN  60000.0\n",
            "2    NaN  30.0      NaN\n",
            "3  David  40.0  80000.0\n",
            "    Name   Age   Salary\n",
            "0  Alice  25.0  50000.0\n",
            "3  David  40.0  80000.0\n"
          ]
        }
      ]
    },
    {
      "cell_type": "code",
      "source": [
        "\n",
        "\n",
        "# 3. Filling missing values with a specific value\n",
        "df_fill_value = df.fillna('Unknown')\n",
        "print(\"\\n3. After Filling Missing Values with 'Unknown':\")\n",
        "print(df_fill_value)\n",
        "\n"
      ],
      "metadata": {
        "colab": {
          "base_uri": "https://localhost:8080/"
        },
        "id": "rfLSzxZ5kVMi",
        "outputId": "fc98eda1-9e80-48dd-9c06-ea59d5974157"
      },
      "execution_count": null,
      "outputs": [
        {
          "output_type": "stream",
          "name": "stdout",
          "text": [
            "\n",
            "3. After Filling Missing Values with 'Unknown':\n",
            "      Name      Age   Salary\n",
            "0    Alice     25.0  50000.0\n",
            "1      Bob  Unknown  60000.0\n",
            "2  Unknown     30.0  Unknown\n",
            "3    David     40.0  80000.0\n"
          ]
        }
      ]
    },
    {
      "cell_type": "code",
      "source": [
        "# 4. Filling missing values with column mean\n",
        "df_fill_mean = df.fillna(df.mean(numeric_only=True))\n",
        "print(\"\\n4. After Filling Missing Values with Mean:\")\n",
        "print(df_fill_mean)"
      ],
      "metadata": {
        "id": "lUndXErCkpIe"
      },
      "execution_count": null,
      "outputs": []
    },
    {
      "cell_type": "code",
      "source": [
        "# 5. Forward fill (propagating previous value)\n",
        "df_ffill = df.fillna(method='ffill')\n",
        "print(\"\\n5. After Forward Fill (Previous Value):\")\n",
        "print(df_ffill)\n"
      ],
      "metadata": {
        "id": "o_EaJsHdkuYF"
      },
      "execution_count": null,
      "outputs": []
    },
    {
      "cell_type": "code",
      "source": [
        "\n",
        "# 6. Backward fill (propagating next value)\n",
        "df_bfill = df.fillna(method='bfill')\n",
        "print(\"\\n6. After Backward Fill (Next Value):\")\n",
        "print(df_bfill)\n"
      ],
      "metadata": {
        "id": "TyDrnmj1kzAg"
      },
      "execution_count": null,
      "outputs": []
    },
    {
      "cell_type": "code",
      "source": [
        "\n",
        "# 7. Replacing missing values with median\n",
        "df_fill_median = df.fillna(df.median(numeric_only=True))\n",
        "print(\"\\n7. After Replacing Missing Values with Median:\")\n",
        "print(df_fill_median)\n"
      ],
      "metadata": {
        "id": "v7hmOWfyk3BA"
      },
      "execution_count": null,
      "outputs": []
    },
    {
      "cell_type": "markdown",
      "source": [
        "## 6. Data Aggregation and Grouping"
      ],
      "metadata": {
        "id": "SZ47cH0u4s4S"
      }
    },
    {
      "cell_type": "markdown",
      "source": [
        "### 6.1 GroupBy Operations\n",
        "* groupby(): Segments data into groups based on a specified key.\n",
        "** For example: If you have a DataFrame with employees and departments, groupby('Department') will group all employees by their department.\n",
        "\n",
        "\n"
      ],
      "metadata": {
        "id": "DI89VV03O3tA"
      }
    },
    {
      "cell_type": "markdown",
      "source": [
        "### Example for groupby"
      ],
      "metadata": {
        "id": "9RwivmDFuS8d"
      }
    },
    {
      "cell_type": "code",
      "source": [
        "\n",
        "import pandas as pd\n",
        "\n",
        "# Sample DataFrame\n",
        "df = pd.DataFrame({\n",
        "    'Department': ['IT', 'HR', 'IT', 'HR', 'Finance'],\n",
        "    'Employee': ['Alice', 'Bob', 'Charlie', 'David', 'Eve'],\n",
        "    'Salary': [60000, 50000, 55000, 52000, 70000]\n",
        "})\n",
        "\n",
        "# Grouping by 'Department' (No Aggregation)\n",
        "grouped = df.groupby('Department')\n",
        "\n",
        "# Displaying a specific group (e.g., \"IT\" Department)\n",
        "print(grouped.get_group('IT'))\n",
        "\n",
        "\n"
      ],
      "metadata": {
        "id": "1IrAntg04yKQ",
        "colab": {
          "base_uri": "https://localhost:8080/"
        },
        "outputId": "a6508992-d0f8-4fcf-8477-27a689f50b39"
      },
      "execution_count": null,
      "outputs": [
        {
          "output_type": "stream",
          "name": "stdout",
          "text": [
            "  Department Employee  Salary\n",
            "0         IT    Alice   60000\n",
            "2         IT  Charlie   55000\n"
          ]
        }
      ]
    },
    {
      "cell_type": "code",
      "source": [
        "import pandas as pd\n",
        "\n",
        "# Sample DataFrame\n",
        "df = pd.DataFrame({\n",
        "    'Department': ['IT', 'HR', 'IT', 'HR', 'Finance'],\n",
        "    'Employee': ['Alice', 'Bob', 'Charlie', 'David', 'Eve'],\n",
        "    'Salary': [60000, 50000, 55000, 52000, 70000]\n",
        "})\n",
        "\n",
        "# Grouping by 'Department' (No Aggregation Yet)\n",
        "grouped = df.groupby('Department')\n",
        "\n",
        "# Iterate through groups\n",
        "for name, group in grouped:\n",
        "    print(f\"\\nDepartment: {name}\")\n",
        "    print(group)\n"
      ],
      "metadata": {
        "colab": {
          "base_uri": "https://localhost:8080/"
        },
        "id": "3u3svp2KwXOR",
        "outputId": "7dbf2a73-8f8f-4b27-bc17-da7010d79492"
      },
      "execution_count": null,
      "outputs": [
        {
          "output_type": "stream",
          "name": "stdout",
          "text": [
            "\n",
            "Department: Finance\n",
            "  Department Employee  Salary\n",
            "4    Finance      Eve   70000\n",
            "\n",
            "Department: HR\n",
            "  Department Employee  Salary\n",
            "1         HR      Bob   50000\n",
            "3         HR    David   52000\n",
            "\n",
            "Department: IT\n",
            "  Department Employee  Salary\n",
            "0         IT    Alice   60000\n",
            "2         IT  Charlie   55000\n"
          ]
        }
      ]
    },
    {
      "cell_type": "markdown",
      "source": [
        "### Aggregation\n",
        "* Aggregation: Applies functions like mean to summarize data within groups.\n",
        "** After grouping, aggregation means applying a function (like sum(), mean(), count(), etc.) to summarize the groups."
      ],
      "metadata": {
        "id": "5Wrvuu5TYJ0B"
      }
    },
    {
      "cell_type": "markdown",
      "source": [
        "### Examples for Aggregation"
      ],
      "metadata": {
        "id": "LS84_wP5vhxa"
      }
    },
    {
      "cell_type": "code",
      "source": [
        "# 1. Group by 'Department' and calculate the total salary\n",
        "print(\"\\nTotal Salary by Department:\")\n",
        "print(df.groupby('Department')['Salary'].sum())"
      ],
      "metadata": {
        "colab": {
          "base_uri": "https://localhost:8080/"
        },
        "id": "H2vI07dzvc_q",
        "outputId": "b611e13a-30e9-4371-aa11-b1cb160f9089"
      },
      "execution_count": null,
      "outputs": [
        {
          "output_type": "stream",
          "name": "stdout",
          "text": [
            "\n",
            "Total Salary by Department:\n",
            "Department\n",
            "Finance     70000\n",
            "HR         102000\n",
            "IT         115000\n",
            "Name: Salary, dtype: int64\n"
          ]
        }
      ]
    },
    {
      "cell_type": "code",
      "source": [
        "# 2. Group by 'Department' and count the number of employees\n",
        "print(\"\\nNumber of Employees in Each Department:\")\n",
        "print(df.groupby('Department')['Employee'].count())"
      ],
      "metadata": {
        "colab": {
          "base_uri": "https://localhost:8080/"
        },
        "id": "y2eluV3sYgpO",
        "outputId": "8e23f856-529b-4cf9-e805-9c59654f9c4f"
      },
      "execution_count": null,
      "outputs": [
        {
          "output_type": "stream",
          "name": "stdout",
          "text": [
            "\n",
            "Number of Employees in Each Department:\n",
            "Department\n",
            "Finance    1\n",
            "HR         2\n",
            "IT         2\n",
            "Name: Employee, dtype: int64\n"
          ]
        }
      ]
    },
    {
      "cell_type": "code",
      "source": [
        "# 3. Group by 'Department' and calculate the average salary\n",
        "print(\"\\nAverage Salary by Department:\")\n",
        "print(df.groupby('Department')['Salary'].mean())"
      ],
      "metadata": {
        "colab": {
          "base_uri": "https://localhost:8080/"
        },
        "id": "8ituC58EYtqT",
        "outputId": "a4218005-abcc-47cf-f79a-8ec2c02b143f"
      },
      "execution_count": null,
      "outputs": [
        {
          "output_type": "stream",
          "name": "stdout",
          "text": [
            "\n",
            "Average Salary by Department:\n",
            "Department\n",
            "Finance    70000.0\n",
            "HR         51000.0\n",
            "IT         57500.0\n",
            "Name: Salary, dtype: float64\n"
          ]
        }
      ]
    },
    {
      "cell_type": "code",
      "source": [
        "# Group by 'Department' and apply multiple aggregation functions\n",
        "result = df.groupby('Department').agg({\n",
        "    'Salary': ['mean', 'sum', 'max', 'min', 'count']\n",
        "})\n",
        "\n",
        "print(\"\\nAggregated Data:\")\n",
        "print(result)\n"
      ],
      "metadata": {
        "colab": {
          "base_uri": "https://localhost:8080/"
        },
        "id": "aq7aiYMdZd74",
        "outputId": "0b8238b6-6251-4f77-87c1-91dba559357c"
      },
      "execution_count": null,
      "outputs": [
        {
          "output_type": "stream",
          "name": "stdout",
          "text": [
            "\n",
            "Aggregated Data:\n",
            "             Salary                            \n",
            "               mean     sum    max    min count\n",
            "Department                                     \n",
            "Finance     70000.0   70000  70000  70000     1\n",
            "HR          51000.0  102000  52000  50000     2\n",
            "IT          57500.0  115000  60000  55000     2\n"
          ]
        }
      ]
    },
    {
      "cell_type": "markdown",
      "source": [
        "### 6.2 Pivot Tables\n",
        "A pivot table helps you organize and summarize your data. Imagine you have a messy table of information, and you want to quickly find answers like:\n",
        "\n",
        "💰 What is the average salary by department?\n",
        "\n",
        "📊 How many people are in each city?\n",
        "\n",
        "Pivot tables make it easy to group and analyze this kind of information!"
      ],
      "metadata": {
        "id": "BgP_9eVrSWzO"
      }
    },
    {
      "cell_type": "code",
      "source": [
        "import pandas as pd\n",
        "\n",
        "# Create a DataFrame (like a table)\n",
        "df = pd.DataFrame({\n",
        "    'Department': ['HR', 'IT', 'HR', 'IT', 'Sales'],\n",
        "    'City': ['New York', 'New York', 'LA', 'LA', 'New York'],\n",
        "    'Salary': [50000, 60000, 52000, 65000, 70000]\n",
        "})\n",
        "\n",
        "# Create a pivot table\n",
        "pivot_table = pd.pivot_table(df, values='Salary', index='Department', columns='City', aggfunc='mean')\n",
        "\n",
        "print(pivot_table)\n"
      ],
      "metadata": {
        "id": "6BWzCK4uSe3m",
        "colab": {
          "base_uri": "https://localhost:8080/"
        },
        "outputId": "2d750814-6c42-4d96-a365-9059ffffa85e"
      },
      "execution_count": null,
      "outputs": [
        {
          "output_type": "stream",
          "name": "stdout",
          "text": [
            "City             LA  New York\n",
            "Department                   \n",
            "HR          52000.0   50000.0\n",
            "IT          65000.0   60000.0\n",
            "Sales           NaN   70000.0\n"
          ]
        }
      ]
    },
    {
      "cell_type": "markdown",
      "source": [
        "### Why Use Pivot Tables?\n",
        "* Summarize large amounts of data quickly.\n",
        "\n",
        "* Compare across multiple categories (e.g., City and Department).\n",
        "\n",
        "* Find patterns (e.g., which city pays the most)."
      ],
      "metadata": {
        "id": "FaOJzW_UXviQ"
      }
    },
    {
      "cell_type": "markdown",
      "source": [
        "## 7. Merging, Joining, and Concatenating DataFrames"
      ],
      "metadata": {
        "id": "bV9O-rTASlc5"
      }
    },
    {
      "cell_type": "markdown",
      "source": [
        "### 7.1 Merging DataFrames\n",
        "* Merging: Combines DataFrames similar to SQL joins using a common key.\n",
        "* how Parameter: Determines the type of join (inner, left, right, outer)."
      ],
      "metadata": {
        "id": "7kBxxUYkSrXA"
      }
    },
    {
      "cell_type": "markdown",
      "source": [
        "#### Inner Join\n",
        "* Only common records in both. (Discription)\n",
        "* Rows present in both tables. (Output)\n",
        "\n",
        "#### Left Join\n",
        "* All records from left table. (Discription)\n",
        "* Rows present in both tables. (Output)\n",
        "\n",
        "#### Right Join\n",
        "* All records from right table. (Discription)\n",
        "* All rows from the right + matching ones from left. (Output)\n",
        "\n",
        "#### Outer join\n",
        "* All records from both. (Discription)\n",
        "* All rows from both tables, missing values as NaN. (Output)\n",
        "\n",
        "#### Note: By default, pd.merge() performs an inner join"
      ],
      "metadata": {
        "id": "9KWt5IzVhhfk"
      }
    },
    {
      "cell_type": "markdown",
      "source": [
        "#### Inner Join\n",
        "* Only common records in both. (Discription)\n",
        "* Rows present in both tables. (Output)"
      ],
      "metadata": {
        "id": "UUfguKXZhNO2"
      }
    },
    {
      "cell_type": "code",
      "source": [
        "import pandas as pd\n",
        "\n",
        "# DataFrames\n",
        "df1 = pd.DataFrame({\n",
        "    'ID': [1, 2, 3],\n",
        "    'Name': ['Alice', 'Bob', 'Charlie']\n",
        "})\n",
        "\n",
        "df2 = pd.DataFrame({\n",
        "    'ID': [2, 3, 4],\n",
        "    'Salary': [60000, 70000, 80000]\n",
        "})\n",
        "\n",
        "print(\"Original DataFrames:\")\n",
        "print(df1, \"\\n\")\n",
        "print(df2, \"\\n\")\n",
        "# 1. Inner Join (Only Common Records)\n",
        "print(\"Inner Join:\")\n",
        "print(pd.merge(df1, df2, on='ID', how='inner'), \"\\n\")"
      ],
      "metadata": {
        "colab": {
          "base_uri": "https://localhost:8080/"
        },
        "id": "R7P_XYI8hEbc",
        "outputId": "45e2ab07-cfbe-4e1c-d55a-4d8a585a4136"
      },
      "execution_count": null,
      "outputs": [
        {
          "output_type": "stream",
          "name": "stdout",
          "text": [
            "Original DataFrames:\n",
            "   ID     Name\n",
            "0   1    Alice\n",
            "1   2      Bob\n",
            "2   3  Charlie \n",
            "\n",
            "   ID  Salary\n",
            "0   2   60000\n",
            "1   3   70000\n",
            "2   4   80000 \n",
            "\n",
            "Inner Join:\n",
            "   ID     Name  Salary\n",
            "0   2      Bob   60000\n",
            "1   3  Charlie   70000 \n",
            "\n"
          ]
        }
      ]
    },
    {
      "cell_type": "markdown",
      "source": [
        "#### Left\tJoin\n",
        "* All records from left table. (Discription)\n",
        "* All rows from the left + matching ones from right. (Output)"
      ],
      "metadata": {
        "id": "hseEGnHBheKn"
      }
    },
    {
      "cell_type": "code",
      "source": [
        "import pandas as pd\n",
        "\n",
        "# DataFrames\n",
        "df1 = pd.DataFrame({\n",
        "    'ID': [1, 2, 3],\n",
        "    'Name': ['Alice', 'Bob', 'Charlie']\n",
        "})\n",
        "\n",
        "df2 = pd.DataFrame({\n",
        "    'ID': [2, 3, 4],\n",
        "    'Salary': [60000, 70000, 80000]\n",
        "})\n",
        "\n",
        "print(\"Original DataFrames:\")\n",
        "print(df1, \"\\n\")\n",
        "print(df2, \"\\n\")\n",
        "# 2. Left Join (All Records from Left Table)\n",
        "print(\"Left Join:\")\n",
        "print(pd.merge(df1, df2, on='ID', how='left'), \"\\n\")"
      ],
      "metadata": {
        "colab": {
          "base_uri": "https://localhost:8080/"
        },
        "id": "zT7oxgWXhZ30",
        "outputId": "78247749-6644-4da7-8b26-a873fbc94fe1"
      },
      "execution_count": null,
      "outputs": [
        {
          "output_type": "stream",
          "name": "stdout",
          "text": [
            "Original DataFrames:\n",
            "   ID     Name\n",
            "0   1    Alice\n",
            "1   2      Bob\n",
            "2   3  Charlie \n",
            "\n",
            "   ID  Salary\n",
            "0   2   60000\n",
            "1   3   70000\n",
            "2   4   80000 \n",
            "\n",
            "Left Join:\n",
            "   ID     Name   Salary\n",
            "0   1    Alice      NaN\n",
            "1   2      Bob  60000.0\n",
            "2   3  Charlie  70000.0 \n",
            "\n"
          ]
        }
      ]
    },
    {
      "cell_type": "markdown",
      "source": [
        "#### Right Join\n",
        "* All records from right table.\t(Discription)\n",
        "* All rows from the right + matching ones from left. (Output)"
      ],
      "metadata": {
        "id": "L6oTUKzriHa2"
      }
    },
    {
      "cell_type": "code",
      "source": [
        "import pandas as pd\n",
        "\n",
        "# DataFrames\n",
        "df1 = pd.DataFrame({\n",
        "    'ID': [1, 2, 3],\n",
        "    'Name': ['Alice', 'Bob', 'Charlie']\n",
        "})\n",
        "\n",
        "df2 = pd.DataFrame({\n",
        "    'ID': [2, 3, 4],\n",
        "    'Salary': [60000, 70000, 80000]\n",
        "})\n",
        "\n",
        "print(\"Original DataFrames:\")\n",
        "print(df1, \"\\n\")\n",
        "print(df2, \"\\n\")\n",
        "# 3. Right Join (All Records from Right Table)\n",
        "print(\"Right Join:\")\n",
        "print(pd.merge(df1, df2, on='ID', how='right'), \"\\n\")"
      ],
      "metadata": {
        "colab": {
          "base_uri": "https://localhost:8080/"
        },
        "id": "YJvhkf5tiE7_",
        "outputId": "43d23e87-c97a-4411-c3da-704b531f2330"
      },
      "execution_count": null,
      "outputs": [
        {
          "output_type": "stream",
          "name": "stdout",
          "text": [
            "Original DataFrames:\n",
            "   ID     Name\n",
            "0   1    Alice\n",
            "1   2      Bob\n",
            "2   3  Charlie \n",
            "\n",
            "   ID  Salary\n",
            "0   2   60000\n",
            "1   3   70000\n",
            "2   4   80000 \n",
            "\n",
            "Right Join:\n",
            "   ID     Name  Salary\n",
            "0   2      Bob   60000\n",
            "1   3  Charlie   70000\n",
            "2   4      NaN   80000 \n",
            "\n"
          ]
        }
      ]
    },
    {
      "cell_type": "markdown",
      "source": [
        "#### Outer Join\n",
        "* All records from both. (Discription)\n",
        "* All rows from both tables, missing values as NaN. (Output)"
      ],
      "metadata": {
        "id": "_nxx3SSqiWWK"
      }
    },
    {
      "cell_type": "code",
      "source": [
        "import pandas as pd\n",
        "\n",
        "# DataFrames\n",
        "df1 = pd.DataFrame({\n",
        "    'ID': [1, 2, 3],\n",
        "    'Name': ['Alice', 'Bob', 'Charlie']\n",
        "})\n",
        "\n",
        "df2 = pd.DataFrame({\n",
        "    'ID': [2, 3, 4],\n",
        "    'Salary': [60000, 70000, 80000]\n",
        "})\n",
        "\n",
        "print(\"Original DataFrames:\")\n",
        "print(df1, \"\\n\")\n",
        "print(df2, \"\\n\")\n",
        "\n",
        "# 4. Outer Join (All Records from Both Tables)\n",
        "print(\"Outer Join:\")\n",
        "print(pd.merge(df1, df2, on='ID', how='outer'))"
      ],
      "metadata": {
        "colab": {
          "base_uri": "https://localhost:8080/"
        },
        "id": "O7lLMTabio4H",
        "outputId": "7dfd6ef0-69e6-4438-abd9-e93b35f2e9d8"
      },
      "execution_count": null,
      "outputs": [
        {
          "output_type": "stream",
          "name": "stdout",
          "text": [
            "Outer Join:\n",
            "   ID     Name   Salary\n",
            "0   1    Alice      NaN\n",
            "1   2      Bob  60000.0\n",
            "2   3  Charlie  70000.0\n",
            "3   4      NaN  80000.0\n"
          ]
        }
      ]
    },
    {
      "cell_type": "markdown",
      "source": [
        "### 7.2 Concatenating DataFrames\n",
        "Concatenating DataFrames in pandas means combining them either vertically (rows) or horizontally (columns) without requiring a common key. You can use the pd.concat() function for this.\n"
      ],
      "metadata": {
        "id": "rxGka3quS90L"
      }
    },
    {
      "cell_type": "markdown",
      "source": [
        "### Examples of Concatenation"
      ],
      "metadata": {
        "id": "MGZdwmtZnxzJ"
      }
    },
    {
      "cell_type": "code",
      "source": [
        "import pandas as pd\n",
        "\n",
        "# Create two DataFrames\n",
        "df1 = pd.DataFrame({\n",
        "    'Name': ['Alice', 'Bob'],\n",
        "    'Age': [25, 32]\n",
        "})\n",
        "\n",
        "df2 = pd.DataFrame({\n",
        "    'Name': ['Charlie', 'David'],\n",
        "    'Age': [30, 40]\n",
        "})\n",
        "\n",
        "# Concatenating DataFrames vertically\n",
        "result = pd.concat([df1, df2], axis=0)\n",
        "# result = pd.concat([df1, df2], keys=['DF-1', 'DF-2'], axis=0)  # keys Parameter: Labels each DataFrame with a custom name (DF-1, DF-2).\n",
        "\n",
        "print(result)"
      ],
      "metadata": {
        "id": "EnJyqvUiTHpF",
        "colab": {
          "base_uri": "https://localhost:8080/"
        },
        "outputId": "f9b105ff-7cff-4e40-bb14-310fc2e87d63"
      },
      "execution_count": 2,
      "outputs": [
        {
          "output_type": "stream",
          "name": "stdout",
          "text": [
            "      Name  Age\n",
            "0    Alice   25\n",
            "1      Bob   32\n",
            "0  Charlie   30\n",
            "1    David   40\n"
          ]
        }
      ]
    },
    {
      "cell_type": "markdown",
      "source": [
        "## 8. Advanced Pandas Topics"
      ],
      "metadata": {
        "id": "hgojZ3v_TPhr"
      }
    },
    {
      "cell_type": "markdown",
      "source": [
        "### 8.1 Applying Functions to Data\n",
        "* The .apply() function in Pandas allows you to execute a custom function on each element of a Series (single column) or DataFrame (entire dataset).\n",
        "\n",
        "* It is useful when you need to perform complex transformations that are not covered by standard Pandas methods."
      ],
      "metadata": {
        "id": "FcKnL_c6TWZ4"
      }
    },
    {
      "cell_type": "markdown",
      "source": [
        "\n",
        "\n",
        "> About **Lambda**: A lambda function is a small anonymous function defined with the lambda keyword. It can have any number of input parameters but only one expression. The expression is evaluated and returned when the lambda function is called.\n",
        "```\n",
        "lambda arguments: expression\n",
        "```\n",
        "\n"
      ],
      "metadata": {
        "id": "1RKaZ29Gu2mk"
      }
    },
    {
      "cell_type": "code",
      "source": [
        "import pandas as pd\n",
        "\n",
        "# Sample DataFrame\n",
        "df = pd.DataFrame({\n",
        "    'Name': ['Alice', 'Bob', 'Charlie'],\n",
        "    'Age': [25, 32, 30]\n",
        "})\n",
        "\n",
        "print(\"Original DataFrame:\")\n",
        "print(df)\n",
        "\n",
        "# Apply a lambda function to increase age by 5\n",
        "df['Age'] = df['Age'].apply(lambda x: x + 5)\n",
        "\n",
        "print(\"\\nAfter Applying Function (Increase Age by 5):\")\n",
        "print(df)\n"
      ],
      "metadata": {
        "id": "GKeUG5STTgKt",
        "colab": {
          "base_uri": "https://localhost:8080/"
        },
        "outputId": "62808c44-2c32-48f7-b422-2f535dda342d"
      },
      "execution_count": null,
      "outputs": [
        {
          "output_type": "stream",
          "name": "stdout",
          "text": [
            "Original DataFrame:\n",
            "      Name  Age\n",
            "0    Alice   25\n",
            "1      Bob   32\n",
            "2  Charlie   30\n",
            "\n",
            "After Applying Function (Increase Age by 5):\n",
            "      Name  Age\n",
            "0    Alice   30\n",
            "1      Bob   37\n",
            "2  Charlie   35\n"
          ]
        }
      ]
    },
    {
      "cell_type": "markdown",
      "source": [
        "### 8.2 Time Series Analysis\n",
        "* Time series analysis involves working with data points recorded over time intervals (e.g., daily, monthly, yearly).\n",
        "* It is useful for analyzing trends, identifying seasonal patterns, and making future predictions based on historical data.\n",
        "\n"
      ],
      "metadata": {
        "id": "8ElBeJGeTmHb"
      }
    },
    {
      "cell_type": "code",
      "source": [
        "import pandas as pd\n",
        "\n",
        "# Create a time series DataFrame\n",
        "date_range = pd.date_range(start='2023-01-01', periods=10, freq='D')\n",
        "df = pd.DataFrame({\n",
        "    'Date': date_range,\n",
        "    'Sales': [100, 120, 130, 125, 150, 160, 170, 180, 190, 200]\n",
        "})\n",
        "\n",
        "# Set 'Date' as the index\n",
        "df.set_index('Date', inplace=True)\n",
        "\n",
        "print(\"Time Series DataFrame:\")\n",
        "print(df)\n"
      ],
      "metadata": {
        "id": "bfYw2ViGT2RD",
        "colab": {
          "base_uri": "https://localhost:8080/"
        },
        "outputId": "4eda00ae-0acc-4f3e-ead6-d1e605e3858c"
      },
      "execution_count": null,
      "outputs": [
        {
          "output_type": "stream",
          "name": "stdout",
          "text": [
            "Time Series DataFrame:\n",
            "            Sales\n",
            "Date             \n",
            "2023-01-01    100\n",
            "2023-01-02    120\n",
            "2023-01-03    130\n",
            "2023-01-04    125\n",
            "2023-01-05    150\n",
            "2023-01-06    160\n",
            "2023-01-07    170\n",
            "2023-01-08    180\n",
            "2023-01-09    190\n",
            "2023-01-10    200\n"
          ]
        }
      ]
    },
    {
      "cell_type": "markdown",
      "source": [
        "#### When is Time Series Analysis Used?\n",
        "* Sales Forecasting – Predicting future sales.\n",
        "* Stock Prices – Analyzing market trends.\n",
        "* Weather – Tracking temperature changes.\n"
      ],
      "metadata": {
        "id": "PGKX7MzVq1tZ"
      }
    },
    {
      "cell_type": "markdown",
      "source": [
        "## 9. Common Questions and How to Explain Them"
      ],
      "metadata": {
        "id": "aH8hywf9W7yU"
      }
    },
    {
      "cell_type": "markdown",
      "source": [
        "\n",
        "\n",
        "\n",
        "1. **Difference between Series and DataFrame?**  \n",
        "   **Answer:**  \n",
        "   - **Series:** Single column of data with an index.\n",
        "   - **DataFrame:** Collection of Series sharing the same index, supporting heterogeneous data.\n",
        "\n",
        "\n",
        "2. **Difference between `.loc` and `.iloc`?**  \n",
        "   **Answer:**  \n",
        "   - **.loc:** Label-based indexing.\n",
        "   - **.iloc:** Integer position-based indexing.\n",
        "\n",
        "3. **What are GroupBy operations?**  \n",
        "   **Answer:**  \n",
        "   - Use `df.groupby(key).agg(func)` to split data by key, apply aggregation (mean, sum, etc.), and combine results.\n",
        "\n",
        "4. **What are the main components of Time Series data?**\n",
        "\n",
        "* Trend: Long-term movement (e.g., increasing sales over years).\n",
        "* Seasonality: Regular patterns over a fixed time (e.g., holiday sales spikes).\n",
        "* Cyclic: Irregular patterns (e.g., economic booms or recessions). (Koi aise patterns jo bar bar aate hain, lekin fixed time period nahi hota.)\n",
        "* Residual (Noise): Random variations not explained by trends or cycles.\n",
        "\n",
        "5. **What is the difference between Time Series and Cross-Sectional Data?**\n",
        "\n",
        "* Time Series: Data collected over time (e.g., daily stock prices).\n",
        "* Cross-Sectional: Data collected at a specific point in time (e.g., customer survey responses)."
      ],
      "metadata": {
        "id": "m4BNe1pcX830"
      }
    },
    {
      "cell_type": "markdown",
      "source": [
        "## Quick Recap of the Pandas Notebook\n",
        "### 1. Introduction to Pandas\n",
        "Pandas is a Python library used for data manipulation and analysis.\n",
        "\n",
        "### 2. Basic Data Structures\n",
        "* Series: A one-dimensional array with labeled data (like a column in Excel).\n",
        "* DataFrame: A two-dimensional table with rows and columns (like a spreadsheet).\n",
        "### 3. Data Loading & I/O Operations\n",
        "* Read Data: Load data from CSV, Excel, and databases.\n",
        "* Write Data: Export data to different formats like CSV, Excel, or SQL.\n",
        "### 4. Data Exploration & Manipulation\n",
        "* Exploring Data: Understand data using methods to view shape, statistics, and summaries.\n",
        "* Selecting Data: Extract specific rows and columns for analysis.\n",
        "* Filtering Data: Apply conditions to filter records.\n",
        "### 5. Handling Missing Data\n",
        "* Detecting Missing Values: Identify where data is missing.\n",
        "* Dealing with Missing Values: Replace missing values or remove them based on the requirement.\n",
        "### 6. Aggregation & Grouping\n",
        "* GroupBy Operations: Summarize data by grouping on one or more columns.\n",
        "* Pivot Tables: Rearrange and summarize data for better analysis.\n",
        "### 7. Merging & Concatenating Data\n",
        "* Merging: Combine data from different DataFrames based on common columns. (Inner, Left, Right, Outer)\n",
        "* Concatenating: Stack DataFrames vertically or horizontally.\n",
        "### 8. Advanced Topics\n",
        "* Applying Functions: Perform complex calculations across rows or columns.\n",
        "* Time Series Analysis: Handle date and time-based data for advanced insights.\n",
        "\n"
      ],
      "metadata": {
        "id": "f90Qj1TiyTMq"
      }
    },
    {
      "cell_type": "code",
      "source": [],
      "metadata": {
        "id": "SJYAK9M_xPgU"
      },
      "execution_count": null,
      "outputs": []
    }
  ]
}